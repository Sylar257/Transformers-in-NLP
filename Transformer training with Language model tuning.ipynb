{
 "cells": [
  {
   "cell_type": "code",
   "execution_count": 1,
   "metadata": {},
   "outputs": [],
   "source": [
    "%matplotlib inline\n",
    "from fastai import *\n",
    "from fastai.text import *\n",
    "from fastai.callbacks import *"
   ]
  },
  {
   "cell_type": "code",
   "execution_count": 2,
   "metadata": {},
   "outputs": [],
   "source": [
    "import numpy as np\n",
    "from pathlib import Path\n",
    "import os\n",
    "import torch.optim as optim\n",
    "import random\n",
    "\n",
    "# transformers\n",
    "from transformers import PreTrainedModel, PreTrainedTokenizer, PretrainedConfig\n",
    "\n",
    "# our models of choice\n",
    "from transformers import BertForSequenceClassification, BertTokenizer, BertConfig\n",
    "from transformers import RobertaForSequenceClassification, RobertaTokenizer, RobertaConfig , RobertaForMaskedLM\n",
    "from transformers import XLNetForSequenceClassification, XLNetTokenizer, XLNetConfig\n",
    "from transformers import XLMForSequenceClassification, XLMTokenizer, XLMConfig\n",
    "from transformers import DistilBertForSequenceClassification, DistilBertTokenizer, DistilBertConfig"
   ]
  },
  {
   "cell_type": "code",
   "execution_count": 3,
   "metadata": {},
   "outputs": [
    {
     "name": "stdout",
     "output_type": "stream",
     "text": [
      "fastai version : 1.0.59\n",
      "transformers version : 2.3.0\n"
     ]
    }
   ],
   "source": [
    "import fastai\n",
    "import transformers\n",
    "print('fastai version :', fastai.__version__)\n",
    "print('transformers version :', transformers.__version__)"
   ]
  },
  {
   "cell_type": "markdown",
   "metadata": {},
   "source": [
    "### Transformers model Zoo\n",
    "Create a dictionary of parameters required for creating different model classes"
   ]
  },
  {
   "cell_type": "code",
   "execution_count": 4,
   "metadata": {},
   "outputs": [],
   "source": [
    "MODEL_CLASSES = {\n",
    "    'bert': (BertForSequenceClassification, BertTokenizer, BertConfig),\n",
    "    'xlnet': (XLNetForSequenceClassification, XLNetTokenizer, XLNetConfig),\n",
    "    'xlm': (XLMForSequenceClassification, XLMTokenizer, XLMConfig),\n",
    "    'roberta': (RobertaForSequenceClassification, RobertaTokenizer, RobertaConfig, RobertaForMaskedLM),\n",
    "    'distilbert': (DistilBertForSequenceClassification, DistilBertTokenizer, DistilBertConfig)\n",
    "}"
   ]
  },
  {
   "cell_type": "code",
   "execution_count": 5,
   "metadata": {},
   "outputs": [],
   "source": [
    "# Parameters\n",
    "seed = 42\n",
    "use_fp16 = False\n",
    "bs = 16\n",
    "\n",
    "model_type = 'roberta'\n",
    "pretrained_model_name = 'roberta-base'\n",
    "\n",
    "# model_type = 'bert'\n",
    "# pretrained_model_name='bert-base-uncased'\n",
    "\n",
    "# model_type = 'distilbert'\n",
    "# pretrained_model_name = 'distilbert-base-uncased'\n",
    "\n",
    "#model_type = 'xlm'\n",
    "#pretrained_model_name = 'xlm-clm-enfr-1024'\n",
    "\n",
    "#model_type = 'xlnet'\n",
    "#pretrained_model_name = 'xlnet-base-cased'"
   ]
  },
  {
   "cell_type": "code",
   "execution_count": 6,
   "metadata": {},
   "outputs": [
    {
     "name": "stdout",
     "output_type": "stream",
     "text": [
      "dict_keys(['roberta-base', 'roberta-large', 'roberta-large-mnli', 'distilroberta-base', 'roberta-base-openai-detector', 'roberta-large-openai-detector'])\n"
     ]
    },
    {
     "data": {
      "text/plain": [
       "dict_keys(['roberta-base', 'roberta-large', 'roberta-large-mnli', 'distilroberta-base', 'roberta-base-openai-detector', 'roberta-large-openai-detector'])"
      ]
     },
     "execution_count": 6,
     "metadata": {},
     "output_type": "execute_result"
    }
   ],
   "source": [
    "model_class, tokenizer_class, config_class , LM_model= MODEL_CLASSES[model_type]\n",
    "\n",
    "# This is the classification model\n",
    "print(model_class.pretrained_model_archive_map.keys())\n",
    "\n",
    "# This is the language model\n",
    "LM_model.pretrained_model_archive_map.keys()"
   ]
  },
  {
   "cell_type": "markdown",
   "metadata": {},
   "source": [
    "### Use the same randomization seed so as to compare different models more easily"
   ]
  },
  {
   "cell_type": "code",
   "execution_count": 7,
   "metadata": {},
   "outputs": [],
   "source": [
    "def seed_all(seed_value):\n",
    "    random.seed(seed_value) # Python\n",
    "    np.random.seed(seed_value) # cpu vars\n",
    "    torch.manual_seed(seed_value) # cpu  vars\n",
    "    \n",
    "    if torch.cuda.is_available(): \n",
    "        torch.cuda.manual_seed(seed_value)\n",
    "        torch.cuda.manual_seed_all(seed_value) # gpu vars\n",
    "        torch.backends.cudnn.deterministic = True  #needed\n",
    "        torch.backends.cudnn.benchmark = False\n",
    "        \n",
    "seed_all(seed)"
   ]
  },
  {
   "cell_type": "markdown",
   "metadata": {},
   "source": [
    "## Prepare the full IMDB dataset and inspect the files under that path"
   ]
  },
  {
   "cell_type": "code",
   "execution_count": 8,
   "metadata": {},
   "outputs": [
    {
     "data": {
      "text/plain": [
       "PosixPath('/home/projectx/.fastai/data/imdb')"
      ]
     },
     "execution_count": 8,
     "metadata": {},
     "output_type": "execute_result"
    }
   ],
   "source": [
    "path = untar_data(URLs.IMDB)\n",
    "path"
   ]
  },
  {
   "cell_type": "code",
   "execution_count": 9,
   "metadata": {},
   "outputs": [
    {
     "data": {
      "text/plain": [
       "[PosixPath('/home/projectx/.fastai/data/imdb/imdb.vocab'),\n",
       " PosixPath('/home/projectx/.fastai/data/imdb/models'),\n",
       " PosixPath('/home/projectx/.fastai/data/imdb/lm_databunch_RoBERTa'),\n",
       " PosixPath('/home/projectx/.fastai/data/imdb/test'),\n",
       " PosixPath('/home/projectx/.fastai/data/imdb/data_bunch_classification'),\n",
       " PosixPath('/home/projectx/.fastai/data/imdb/imdb_textlist_classifier'),\n",
       " PosixPath('/home/projectx/.fastai/data/imdb/fine_tuning_LM'),\n",
       " PosixPath('/home/projectx/.fastai/data/imdb/tmp_lm'),\n",
       " PosixPath('/home/projectx/.fastai/data/imdb/train'),\n",
       " PosixPath('/home/projectx/.fastai/data/imdb/lm_databunch'),\n",
       " PosixPath('/home/projectx/.fastai/data/imdb/tmp_clas'),\n",
       " PosixPath('/home/projectx/.fastai/data/imdb/README'),\n",
       " PosixPath('/home/projectx/.fastai/data/imdb/unsup')]"
      ]
     },
     "execution_count": 9,
     "metadata": {},
     "output_type": "execute_result"
    }
   ],
   "source": [
    "path.ls()"
   ]
  },
  {
   "cell_type": "code",
   "execution_count": 10,
   "metadata": {},
   "outputs": [
    {
     "data": {
      "text/plain": [
       "[PosixPath('/home/projectx/.fastai/data/imdb/train/unsupBow.feat'),\n",
       " PosixPath('/home/projectx/.fastai/data/imdb/train/pos'),\n",
       " PosixPath('/home/projectx/.fastai/data/imdb/train/labeledBow.feat'),\n",
       " PosixPath('/home/projectx/.fastai/data/imdb/train/neg')]"
      ]
     },
     "execution_count": 10,
     "metadata": {},
     "output_type": "execute_result"
    }
   ],
   "source": [
    "(path/'train').ls()"
   ]
  },
  {
   "cell_type": "code",
   "execution_count": 11,
   "metadata": {},
   "outputs": [
    {
     "data": {
      "text/plain": [
       "[PosixPath('/home/projectx/.fastai/data/imdb/test/pos'),\n",
       " PosixPath('/home/projectx/.fastai/data/imdb/test/labeledBow.feat'),\n",
       " PosixPath('/home/projectx/.fastai/data/imdb/test/neg')]"
      ]
     },
     "execution_count": 11,
     "metadata": {},
     "output_type": "execute_result"
    }
   ],
   "source": [
    "(path/'test').ls()"
   ]
  },
  {
   "cell_type": "markdown",
   "metadata": {},
   "source": [
    "# Data for LM training\n",
    "The reviews are in a training and test folder. In addition, we have a 'unsup' folder that contains many reviews are \n",
    "are **not labelled**.<br>\n",
    "In the second training phase of ULMFiT, as mentioned in the [README](https://github.com/Sylar257/Sentiment-Analysis/blob/master/README.md)\n",
    ", we will be fine-tuning the language model to the domain-specific corpus.<br>\n",
    "Thus, training could take advantage of using 'train', 'test', and 'unsup' folder."
   ]
  },
  {
   "cell_type": "markdown",
   "metadata": {},
   "source": [
    "# Fine tuning Language Model\n",
    "Important things to note here: we can't tune the language model of RoBERTa exactly the same way as ULMFiT AWD_LSTM.\n",
    "The reason is because they use different training strategies. For `AWD_LSTM`, we set up language model training as predicting the **next word** or the **previous word** depending the forward/backward model that we are building. Whereas for `RoBERTa`, we need to fine-tune with masked language modeling strategy which is adopted by most of the **BERT model family** for their bidirectional mechanism."
   ]
  },
  {
   "cell_type": "code",
   "execution_count": 12,
   "metadata": {},
   "outputs": [],
   "source": [
    "import glob\n",
    "import logging\n",
    "import pickle\n",
    "import random\n",
    "import shutil\n",
    "import re\n",
    "import argparse\n",
    "from typing import Tuple\n",
    "\n",
    "from torch.utils.data import DataLoader, Dataset, RandomSampler, SequentialSampler\n",
    "from torch.utils.data.distributed import DistributedSampler\n",
    "from tqdm import tqdm, trange\n",
    "from torch.utils.tensorboard import SummaryWriter\n",
    "from transformers import AdamW, get_linear_schedule_with_warmup, get_cosine_schedule_with_warmup\n",
    "\n",
    "logger = logging.getLogger(__name__)"
   ]
  },
  {
   "cell_type": "markdown",
   "metadata": {},
   "source": [
    "## Prepare the training files"
   ]
  },
  {
   "cell_type": "markdown",
   "metadata": {},
   "source": [
    "#### Grab all seperate text files from train/test/unsup folders\n",
    "Now all of the text data are under the `.fastai/data/imdb` directory by default.\n",
    "In particular, there are 5 folders that we are leverage: *`train/pos ; train/neg ; test/pos ; test/neg ; unsup`*\n",
    "The plan is to grab all IMDb text data that we can get our hands on and split then 90% for training language model and 10% for validation.\n",
    "Note that it's better to shuffle our file glob here so that we don't get all validation text data from, say, only the `test/neg` folder"
   ]
  },
  {
   "cell_type": "code",
   "execution_count": 174,
   "metadata": {},
   "outputs": [],
   "source": [
    "import random\n",
    "\n",
    "# combine all the .txt files in the train/pos and train/neg folders\n",
    "train_files = glob.glob(os.path.join((path/'train/*'),'*.txt'))\n",
    "random.shuffle(train_files)\n",
    "\n",
    "# split randomly 90% data to train_data_LM file and 10% to test_data_LM file\n",
    "with open('train_data_LM.txt', 'ab') as outfile:\n",
    "    for f in train_files[:int(len(train_files)*0.9)]:\n",
    "        with open(f, 'rb') as infile:\n",
    "            outfile.write(infile.read())\n",
    "with open('test_data_LM.txt',  'ab') as outfile:\n",
    "    for f in train_files[int(len(train_files)*0.9):]:\n",
    "        with open(f, 'rb') as infile:\n",
    "            outfile.write(infile.read())\n",
    "            \n",
    "# combine all the .txt files in the test/pos and test/neg folders\n",
    "test_files = glob.glob(os.path.join((path/'test/*'),'*.txt'))\n",
    "random.shuffle(test_files)\n",
    "\n",
    "with open('train_data_LM.txt', 'ab') as outfile:\n",
    "    for f in test_files[:int(len(test_files)*0.9)]:\n",
    "        with open(f, 'rb') as infile:\n",
    "            outfile.write(infile.read())\n",
    "with open('test_data_LM.txt',  'ab') as outfile:\n",
    "    for f in test_files[int(len(test_files)*0.9):]:\n",
    "        with open(f, 'rb') as infile:\n",
    "            outfile.write(infile.read())\n",
    "            \n",
    "            \n",
    "# grab all text in the 'unsup' file as well\n",
    "unsup_files = glob.glob(os.path.join((path/'unsup'),'*.txt'))\n",
    "random.shuffle(unsup_files)\n",
    "\n",
    "with open('train_data_LM.txt', 'ab') as outfile:\n",
    "    for f in unsup_files[:int(len(unsup_files)*0.9)]:\n",
    "        with open(f, 'rb') as infile:\n",
    "            outfile.write(infile.read())\n",
    "with open('test_data_LM.txt',  'ab') as outfile:\n",
    "    for f in unsup_files[int(len(unsup_files)*0.9):]:\n",
    "        with open(f, 'rb') as infile:\n",
    "            outfile.write(infile.read())"
   ]
  },
  {
   "cell_type": "code",
   "execution_count": 161,
   "metadata": {},
   "outputs": [
    {
     "data": {
      "text/plain": [
       "(25000, 25000, 50000)"
      ]
     },
     "execution_count": 161,
     "metadata": {},
     "output_type": "execute_result"
    }
   ],
   "source": [
    "len(train_files),len(test_files),len(unsup_files)"
   ]
  },
  {
   "cell_type": "markdown",
   "metadata": {},
   "source": [
    "### Make sure files are actually shuffled\n",
    "We should be seeing both `pos` and `neg` in the first 10 files of `train_files`. Same goes for `test_files`"
   ]
  },
  {
   "cell_type": "code",
   "execution_count": 175,
   "metadata": {
    "scrolled": true
   },
   "outputs": [
    {
     "data": {
      "text/plain": [
       "['/home/projectx/.fastai/data/imdb/train/neg/9134_4.txt',\n",
       " '/home/projectx/.fastai/data/imdb/train/neg/1173_1.txt',\n",
       " '/home/projectx/.fastai/data/imdb/train/neg/12174_4.txt',\n",
       " '/home/projectx/.fastai/data/imdb/train/pos/8684_10.txt',\n",
       " '/home/projectx/.fastai/data/imdb/train/neg/5122_3.txt',\n",
       " '/home/projectx/.fastai/data/imdb/train/neg/2807_3.txt',\n",
       " '/home/projectx/.fastai/data/imdb/train/pos/3141_10.txt',\n",
       " '/home/projectx/.fastai/data/imdb/train/neg/7203_2.txt',\n",
       " '/home/projectx/.fastai/data/imdb/train/pos/12078_8.txt',\n",
       " '/home/projectx/.fastai/data/imdb/train/neg/10622_3.txt']"
      ]
     },
     "execution_count": 175,
     "metadata": {},
     "output_type": "execute_result"
    }
   ],
   "source": [
    "train_files[:10]"
   ]
  },
  {
   "cell_type": "code",
   "execution_count": 176,
   "metadata": {},
   "outputs": [
    {
     "data": {
      "text/plain": [
       "['/home/projectx/.fastai/data/imdb/test/neg/3208_4.txt',\n",
       " '/home/projectx/.fastai/data/imdb/test/neg/494_2.txt',\n",
       " '/home/projectx/.fastai/data/imdb/test/pos/8010_9.txt',\n",
       " '/home/projectx/.fastai/data/imdb/test/pos/779_8.txt',\n",
       " '/home/projectx/.fastai/data/imdb/test/neg/6888_3.txt',\n",
       " '/home/projectx/.fastai/data/imdb/test/neg/4767_3.txt',\n",
       " '/home/projectx/.fastai/data/imdb/test/neg/1191_1.txt',\n",
       " '/home/projectx/.fastai/data/imdb/test/neg/6846_1.txt',\n",
       " '/home/projectx/.fastai/data/imdb/test/neg/6715_1.txt',\n",
       " '/home/projectx/.fastai/data/imdb/test/neg/5814_1.txt']"
      ]
     },
     "execution_count": 176,
     "metadata": {},
     "output_type": "execute_result"
    }
   ],
   "source": [
    "test_files[:10]"
   ]
  },
  {
   "cell_type": "markdown",
   "metadata": {},
   "source": [
    "## Hyper-parameters"
   ]
  },
  {
   "cell_type": "code",
   "execution_count": 13,
   "metadata": {},
   "outputs": [],
   "source": [
    "class training_param():\n",
    "    def __init__(self):\n",
    "        \n",
    "        # general parameters\n",
    "        self.train_data_file = 'train_data_LM.txt'   # train file name\n",
    "        self.eval_data_file = 'test_data_LM.txt'     # test  file name\n",
    "        self.model_name_or_path = 'roberta-base'# change this if using other models\n",
    "        self.block_size = 128 # The training dataset will be truncated in block of this size for training. Default to the model max input length for single sentence inputs (take into account special tokens).\"\n",
    "        self.save_total_limit = 15              # total number of checkpoints we allow\n",
    "        self.output_dir = os.path.join(os.getcwd(),'fine_tuning_LM')    # output directory for checkpoints and saves\n",
    "        self.train_batch_size = 4\n",
    "        self.eval_batch_size  = 4\n",
    "        self.num_train_epochs = 8               # no. of epochs\n",
    "        self.logging_steps    = 4000\n",
    "        self.save_steps       = 4000\n",
    "        \n",
    "        # optimizer parameters\n",
    "        self.learning_rate    = 1.5e-5\n",
    "        self.weight_decay     = 0.0\n",
    "        self.adam_epsilon     = 1e-8\n",
    "        self.max_grad_norm    = 1.0             # max gradient norm\n",
    "        self.warmup_steps     = 5000               # linear/cosine warmup over warmup_steps\n",
    "        \n",
    "        # model parameters\n",
    "        self.fp16             = False\n",
    "        self.fp16_opt_level   = 'O1'            # For fp16: Apex AMP optimization level selected in ['O0', 'O1', 'O2', and 'O3']. See details at https://nvidia.github.io/apex/amp.html\n",
    "        self.mlm              = True            # Training with masked-language modeling loss instead of vanilla language modeling\n",
    "        self.mlm_probability  = 0.15            # Ratio of tokens to mask for masked language modeling loss\n",
    "        self.device           = torch.device(\"cuda\" if torch.cuda.is_available() else \"cpu\")\n",
    "        \n",
    "        # flags\n",
    "        self.evaluate_during_training = False   # True to monitor training for each checkpoint saving, but this would time consuming        \n",
    "        self.overwrite_cache          = True\n",
    "        self.do_train                 = True\n",
    "        self.do_eval                  = False\n",
    "        self.do_lower_case            = False   # false to training RoBERTa model\n",
    "        self.overwrite_output_dir     = True    # overwrite the content of the output directory\n",
    "        self.no_cuda                  = False   # Avoid using CUDA when it's available\n",
    "        self.eval_all_checkpoints     = False    # Evaluate all checkpoints starting with the same prefix as model_name_or_path ending and ending with step number\n",
    "        \n",
    "device = torch.device(\"cuda\" if torch.cuda.is_available() else \"cpu\")\n",
    "RoBERTa_HP = training_param()"
   ]
  },
  {
   "cell_type": "code",
   "execution_count": 14,
   "metadata": {},
   "outputs": [
    {
     "data": {
      "text/plain": [
       "8"
      ]
     },
     "execution_count": 14,
     "metadata": {},
     "output_type": "execute_result"
    }
   ],
   "source": [
    "RoBERTa_HP.num_train_epochs"
   ]
  },
  {
   "cell_type": "code",
   "execution_count": 15,
   "metadata": {},
   "outputs": [],
   "source": [
    "class TextDataset(Dataset):\n",
    "    def __init__(self, tokenizer, HP, file_path=\"fine_tuning_LM\", block_size=128):\n",
    "        assert os.path.isfile(file_path)\n",
    "        directory, filename = os.path.split(file_path)\n",
    "        cached_features_file = os.path.join(\n",
    "            directory, HP.model_name_or_path + \"_cached_lm_\" + str(block_size) + \"_\" + filename\n",
    "        )\n",
    "\n",
    "        if os.path.exists(cached_features_file) and not HP.overwrite_cache:\n",
    "            logger.info(\"Loading features from cached file %s\", cached_features_file)\n",
    "            with open(cached_features_file, \"rb\") as handle:\n",
    "                self.examples = pickle.load(handle)\n",
    "        else:\n",
    "            logger.info(\"Creating features from dataset file at %s\", directory)\n",
    "\n",
    "            self.examples = []\n",
    "            with open(file_path, encoding=\"utf-8\") as f:\n",
    "                text = f.read()\n",
    "\n",
    "            tokenized_text = tokenizer.convert_tokens_to_ids(tokenizer.tokenize(text))\n",
    "\n",
    "            for i in range(0, len(tokenized_text) - block_size + 1, block_size):  # Truncate in block of block_size\n",
    "                self.examples.append(tokenizer.build_inputs_with_special_tokens(tokenized_text[i : i + block_size]))\n",
    "            # Note that we are loosing the last truncated example here for the sake of simplicity (no padding)\n",
    "            # If your dataset is small, first you should loook for a bigger one :-) and second you\n",
    "            # can change this behavior by adding (model specific) padding.\n",
    "\n",
    "            logger.info(\"Saving features into cached file %s\", cached_features_file)\n",
    "            with open(cached_features_file, \"wb\") as handle:\n",
    "                pickle.dump(self.examples, handle, protocol=pickle.HIGHEST_PROTOCOL)\n",
    "\n",
    "    def __len__(self):\n",
    "        return len(self.examples)\n",
    "\n",
    "    def __getitem__(self, item):\n",
    "        return torch.tensor(self.examples[item])\n",
    "\n",
    "\n",
    "def load_and_cache_examples(HP, tokenizer, evaluate=False):\n",
    "    dataset = TextDataset(\n",
    "        tokenizer,\n",
    "        HP,\n",
    "        file_path=HP.eval_data_file if evaluate else HP.train_data_file,\n",
    "        block_size=HP.block_size,\n",
    "    )\n",
    "    return dataset"
   ]
  },
  {
   "cell_type": "code",
   "execution_count": 16,
   "metadata": {},
   "outputs": [],
   "source": [
    "def _rotate_checkpoints(HP, checkpoint_prefix, use_mtime=False):\n",
    "    if not HP.save_total_limit:\n",
    "        return\n",
    "    if HP.save_total_limit <= 0:\n",
    "        return\n",
    "\n",
    "    # Check if we should delete older checkpoint(s)\n",
    "    glob_checkpoints = glob.glob(os.path.join(HP.output_dir, \"{}-*\".format(checkpoint_prefix)))\n",
    "    if len(glob_checkpoints) <= HP.save_total_limit:\n",
    "        return\n",
    "\n",
    "    ordering_and_checkpoint_path = []\n",
    "    for path in glob_checkpoints:\n",
    "        if use_mtime:\n",
    "            ordering_and_checkpoint_path.append((os.path.getmtime(path), path))\n",
    "        else:\n",
    "            regex_match = re.match(\".*{}-([0-9]+)\".format(checkpoint_prefix), path)\n",
    "            if regex_match and regex_match.groups():\n",
    "                ordering_and_checkpoint_path.append((int(regex_match.groups()[0]), path))\n",
    "\n",
    "    checkpoints_sorted = sorted(ordering_and_checkpoint_path)\n",
    "    checkpoints_sorted = [checkpoint[1] for checkpoint in checkpoints_sorted]\n",
    "    number_of_checkpoints_to_delete = max(0, len(checkpoints_sorted) - HP.save_total_limit)\n",
    "    checkpoints_to_be_deleted = checkpoints_sorted[:number_of_checkpoints_to_delete]\n",
    "    for checkpoint in checkpoints_to_be_deleted:\n",
    "        logger.info(\"Deleting older checkpoint [{}] due to HP.save_total_limit\".format(checkpoint))"
   ]
  },
  {
   "cell_type": "code",
   "execution_count": 17,
   "metadata": {},
   "outputs": [],
   "source": [
    "def mask_tokens(inputs: torch.Tensor, tokenizer: PreTrainedTokenizer, HP) -> Tuple[torch.Tensor, torch.Tensor]:\n",
    "    \"\"\" Prepare masked tokens inputs/labels for masked language modeling: 80% MASK, 10% random, 10% original. \"\"\"\n",
    "    labels = inputs.clone()\n",
    "    # We sample a few tokens in each sequence for masked-LM training (with probability HP.mlm_probability defaults to 0.15 in Bert/RoBERTa)\n",
    "    probability_matrix = torch.full(labels.shape, HP.mlm_probability)\n",
    "    special_tokens_mask = [\n",
    "        tokenizer.get_special_tokens_mask(val, already_has_special_tokens=True) for val in labels.tolist()\n",
    "    ]\n",
    "    probability_matrix.masked_fill_(torch.tensor(special_tokens_mask, dtype=torch.bool), value=0.0)\n",
    "    masked_indices = torch.bernoulli(probability_matrix).bool()\n",
    "    labels[~masked_indices] = -100  # We only compute loss on masked tokens\n",
    "\n",
    "    # 80% of the time, we replace masked input tokens with tokenizer.mask_token ([MASK])\n",
    "    indices_replaced = torch.bernoulli(torch.full(labels.shape, 0.8)).bool() & masked_indices\n",
    "    inputs[indices_replaced] = tokenizer.convert_tokens_to_ids(tokenizer.mask_token)\n",
    "\n",
    "    # 10% of the time, we replace masked input tokens with random word\n",
    "    indices_random = torch.bernoulli(torch.full(labels.shape, 0.5)).bool() & masked_indices & ~indices_replaced\n",
    "    random_words = torch.randint(len(tokenizer), labels.shape, dtype=torch.long)\n",
    "    inputs[indices_random] = random_words[indices_random]\n",
    "\n",
    "    # The rest of the time (10% of the time) we keep the masked input tokens unchanged\n",
    "    return inputs, labels"
   ]
  },
  {
   "cell_type": "code",
   "execution_count": 18,
   "metadata": {},
   "outputs": [],
   "source": [
    "def train(HP, train_dataset, model, tokenizer=None):\n",
    "    \"\"\" Train the model \"\"\"\n",
    "    tb_writer = SummaryWriter()\n",
    "\n",
    "    train_sampler = RandomSampler(train_dataset)\n",
    "    train_dataloader = DataLoader(train_dataset, sampler=train_sampler, batch_size=HP.train_batch_size)\n",
    "\n",
    "    t_total = len(train_dataloader)* HP.num_train_epochs\n",
    "\n",
    "    # Prepare optimizer and schedule (linear warmup and decay)\n",
    "    no_decay = [\"bias\", \"LayerNorm.weight\"]\n",
    "    optimizer_grouped_parameters = [\n",
    "        {\n",
    "            \"params\": [p for n, p in model.named_parameters() if not any(nd in n for nd in no_decay)],\n",
    "            \"weight_decay\": HP.weight_decay,\n",
    "        },\n",
    "        {\"params\": [p for n, p in model.named_parameters() if any(nd in n for nd in no_decay)], \"weight_decay\": 0.0},\n",
    "    ]\n",
    "    optimizer = AdamW(optimizer_grouped_parameters, lr=HP.learning_rate, eps=HP.adam_epsilon)\n",
    "    \n",
    "    # warmup for first 30% of training\n",
    "    scheduler = get_cosine_schedule_with_warmup(\n",
    "        optimizer, num_warmup_steps=int(t_total*0.3), num_training_steps=t_total\n",
    "    )\n",
    "\n",
    "    # Check if saved optimizer or scheduler states exist\n",
    "    if os.path.isfile(os.path.join(HP.model_name_or_path, \"optimizer.pt\")) and os.path.isfile(\n",
    "        os.path.join(HP.model_name_or_path, \"scheduler.pt\")\n",
    "    ):\n",
    "        # Load in optimizer and scheduler states\n",
    "        optimizer.load_state_dict(torch.load(os.path.join(HP.model_name_or_path, \"optimizer.pt\")))\n",
    "        scheduler.load_state_dict(torch.load(os.path.join(HP.model_name_or_path, \"scheduler.pt\")))\n",
    "\n",
    "    if HP.fp16:\n",
    "        try:\n",
    "            from apex import amp\n",
    "        except ImportError:\n",
    "            raise ImportError(\"Please install apex from https://www.github.com/nvidia/apex to use fp16 training.\")\n",
    "        model, optimizer = amp.initialize(model, optimizer, opt_level=HP.fp16_opt_level)\n",
    "\n",
    "    \n",
    "    # Train!\n",
    "    logger.info(\"***** Running training *****\")\n",
    "    logger.info(\"  Num examples = %d\", len(train_dataset))\n",
    "    logger.info(\"  Num Epochs = %d\", HP.num_train_epochs)\n",
    "    logger.info(\"  Instantaneous batch size per GPU = %d\", HP.train_batch_size)\n",
    "    logger.info(\"  Total optimization steps = %d\", t_total)\n",
    "\n",
    "    global_step = 0\n",
    "    epochs_trained = 0\n",
    "    steps_trained_in_current_epoch = 0\n",
    "    # Check if continuing training from a checkpoint\n",
    "    if os.path.exists(HP.model_name_or_path):\n",
    "        # set global_step to gobal_step of last saved checkpoint from model path\n",
    "        global_step = int(HP.model_name_or_path.split(\"-\")[-1].split(\"/\")[0])\n",
    "        epochs_trained = global_step // len(train_dataloader)\n",
    "        steps_trained_in_current_epoch = global_step % (len(train_dataloader))\n",
    "\n",
    "        logger.info(\"  Continuing training from checkpoint, will skip to saved global_step\")\n",
    "        logger.info(\"  Continuing training from epoch %d\", epochs_trained)\n",
    "        logger.info(\"  Continuing training from global step %d\", global_step)\n",
    "        logger.info(\"  Will skip the first %d steps in the first epoch\", steps_trained_in_current_epoch)\n",
    "\n",
    "    tr_loss, logging_loss = 0.0, 0.0\n",
    "\n",
    "    model_to_resize = model.module if hasattr(model, \"module\") else model  # Take care of distributed/parallel training\n",
    "    model_to_resize.resize_token_embeddings(len(tokenizer))\n",
    "\n",
    "    model.zero_grad()\n",
    "    train_iterator = trange(\n",
    "        epochs_trained, int(HP.num_train_epochs), desc=\"Epoch\", disable=False\n",
    "    )\n",
    "    for _ in train_iterator:\n",
    "#         epoch_iterator = tqdm(train_dataloader, desc=\"Iteration\", disable=False)\n",
    "        \n",
    "#         for step, batch in enumerate(epoch_iterator):\n",
    "        for step, batch in enumerate(train_dataloader):\n",
    "            # Skip past any already trained steps if resuming training\n",
    "            if steps_trained_in_current_epoch > 0:\n",
    "                steps_trained_in_current_epoch -= 1\n",
    "                continue\n",
    "\n",
    "            inputs, labels = mask_tokens(batch, tokenizer, HP) if HP.mlm else (batch, batch)\n",
    "            inputs = inputs.to(HP.device)\n",
    "            labels = labels.to(HP.device)\n",
    "            model.train()\n",
    "            outputs = model(inputs, masked_lm_labels=labels) if HP.mlm else model(inputs, labels=labels)\n",
    "            loss = outputs[0]  # model outputs are always tuple in transformers (see doc)\n",
    "\n",
    "            if HP.fp16:\n",
    "                with amp.scale_loss(loss, optimizer) as scaled_loss:\n",
    "                    scaled_loss.backward()\n",
    "            else:\n",
    "                loss.backward()\n",
    "\n",
    "            tr_loss += loss.item()\n",
    "            \n",
    "            if HP.fp16:\n",
    "                torch.nn.utils.clip_grad_norm_(amp.master_params(optimizer), HP.max_grad_norm)\n",
    "            else:\n",
    "                torch.nn.utils.clip_grad_norm_(model.parameters(), HP.max_grad_norm)\n",
    "            optimizer.step()\n",
    "            scheduler.step()  # Update learning rate schedule\n",
    "            model.zero_grad()\n",
    "            global_step += 1\n",
    "\n",
    "            if HP.logging_steps > 0 and global_step % HP.logging_steps == 0:\n",
    "                # Log metrics\n",
    "                if (\n",
    "                    HP.evaluate_during_training\n",
    "                ):  # Only evaluate when single GPU otherwise metrics may not average well\n",
    "                    results = evaluate(HP, model, tokenizer)\n",
    "                    for key, value in results.items():\n",
    "                        tb_writer.add_scalar(\"eval_{}\".format(key), value, global_step)\n",
    "                tb_writer.add_scalar(\"lr\", scheduler.get_lr()[0], global_step)\n",
    "                tb_writer.add_scalar(\"loss\", (tr_loss - logging_loss) / HP.logging_steps, global_step)\n",
    "                logging_loss = tr_loss\n",
    "\n",
    "            if HP.save_steps > 0 and global_step % HP.save_steps == 0:\n",
    "                checkpoint_prefix = \"checkpoint\"\n",
    "                # Save model checkpoint\n",
    "                output_dir = os.path.join(HP.output_dir, \"{}-{}\".format(checkpoint_prefix, global_step))\n",
    "                if not os.path.exists(output_dir):\n",
    "                    os.makedirs(output_dir)\n",
    "                model_to_save = (\n",
    "                    model.module if hasattr(model, \"module\") else model\n",
    "                )  # Take care of distributed/parallel training\n",
    "                model_to_save.save_pretrained(output_dir)\n",
    "                tokenizer.save_pretrained(output_dir)\n",
    "\n",
    "                torch.save(HP, os.path.join(output_dir, \"training_args.bin\"))\n",
    "                logger.info(\"Saving model checkpoint to %s\", output_dir)\n",
    "\n",
    "                _rotate_checkpoints(HP, checkpoint_prefix)\n",
    "\n",
    "                torch.save(optimizer.state_dict(), os.path.join(output_dir, \"optimizer.pt\"))\n",
    "                torch.save(scheduler.state_dict(), os.path.join(output_dir, \"scheduler.pt\"))\n",
    "                logger.info(\"Saving optimizer and scheduler states to %s\", output_dir)\n",
    "\n",
    "    tb_writer.close()\n",
    "\n",
    "    return global_step, tr_loss / global_step"
   ]
  },
  {
   "cell_type": "code",
   "execution_count": 19,
   "metadata": {},
   "outputs": [],
   "source": [
    "def evaluate(HP, model, tokenizer, prefix=\"\"):\n",
    "    # Loop to handle MNLI double evaluation (matched, mis-matched)\n",
    "    eval_output_dir = HP.output_dir\n",
    "\n",
    "    eval_dataset = load_and_cache_examples(HP, tokenizer=tokenizer, evaluate=True)\n",
    "\n",
    "    if not os.path.exists(eval_output_dir):\n",
    "        os.makedirs(eval_output_dir)\n",
    "\n",
    "    # Note that DistributedSampler samples randomly\n",
    "    eval_sampler = SequentialSampler(eval_dataset)\n",
    "    eval_dataloader = DataLoader(eval_dataset, sampler=eval_sampler, batch_size=HP.eval_batch_size)\n",
    "\n",
    "    # Eval!\n",
    "    logger.info(\"***** Running evaluation {} *****\".format(prefix))\n",
    "    logger.info(\"  Num examples = %d\", len(eval_dataset))\n",
    "    logger.info(\"  Batch size = %d\", HP.eval_batch_size)\n",
    "    eval_loss = 0.0\n",
    "    nb_eval_steps = 0\n",
    "    model.eval()\n",
    "\n",
    "    for batch in tqdm(eval_dataloader, desc=\"Evaluating\"):\n",
    "        inputs, labels = mask_tokens(batch, tokenizer, HP) if HP.mlm else (batch, batch)\n",
    "        inputs = inputs.to(HP.device)\n",
    "        labels = labels.to(HP.device)\n",
    "\n",
    "        with torch.no_grad():\n",
    "            outputs = model(inputs, masked_lm_labels=labels) if HP.mlm else model(inputs, labels=labels)\n",
    "            lm_loss = outputs[0]\n",
    "            eval_loss += lm_loss.mean().item()\n",
    "        nb_eval_steps += 1\n",
    "\n",
    "    eval_loss = eval_loss / nb_eval_steps\n",
    "    perplexity = torch.exp(torch.tensor(eval_loss))\n",
    "\n",
    "    result = {\"perplexity\": perplexity}\n",
    "    print(result)\n",
    "\n",
    "    output_eval_file = os.path.join(eval_output_dir, prefix, \"eval_results.txt\")\n",
    "    with open(output_eval_file, \"w\") as writer:\n",
    "        logger.info(\"***** Eval results {} *****\".format(prefix))\n",
    "        for key in sorted(result.keys()):\n",
    "            logger.info(\"  %s = %s\", key, str(result[key]))\n",
    "            writer.write(\"%s = %s\\n\" % (key, str(result[key])))\n",
    "\n",
    "    return result"
   ]
  },
  {
   "cell_type": "code",
   "execution_count": 20,
   "metadata": {},
   "outputs": [
    {
     "name": "stderr",
     "output_type": "stream",
     "text": [
      "01/15/2020 18:08:21 - WARNING - __main__ -   Process rank: -1, device: cuda, n_gpu: 1, distributed training: False, 16-bits training: False\n"
     ]
    }
   ],
   "source": [
    "if RoBERTa_HP.eval_data_file is None and RoBERTa_HP.do_eval:\n",
    "        raise ValueError(\n",
    "            \"Cannot do evaluation without an evaluation data file. Either supply a file to --eval_data_file \"\n",
    "            \"or remove the --do_eval argument.\"\n",
    "        )\n",
    "\n",
    "if (\n",
    "    os.path.exists(RoBERTa_HP.output_dir)\n",
    "    and os.listdir(RoBERTa_HP.output_dir)\n",
    "    and RoBERTa_HP.do_train\n",
    "    and not RoBERTa_HP.overwrite_output_dir\n",
    "):\n",
    "    raise ValueError(\n",
    "        \"Output directory ({}) already exists and is not empty. Use --overwrite_output_dir to overcome.\".format(\n",
    "            RoBERTa_HP.output_dir\n",
    "        )\n",
    "    )\n",
    "\n",
    "# set up logging\n",
    "logging.basicConfig(\n",
    "    format=\"%(asctime)s - %(levelname)s - %(name)s -   %(message)s\",\n",
    "    datefmt=\"%m/%d/%Y %H:%M:%S\",\n",
    "    level=logging.INFO ,\n",
    ")\n",
    "logger.warning(\n",
    "    \"Process rank: %s, device: %s, n_gpu: %s, distributed training: %s, 16-bits training: %s\",\n",
    "    -1,\n",
    "    device,\n",
    "    1,\n",
    "    False,\n",
    "    RoBERTa_HP.fp16,\n",
    ")"
   ]
  },
  {
   "cell_type": "code",
   "execution_count": 21,
   "metadata": {},
   "outputs": [
    {
     "name": "stderr",
     "output_type": "stream",
     "text": [
      "01/15/2020 18:08:22 - INFO - filelock -   Lock 139737179025248 acquired on /home/projectx/.cache/torch/transformers/e1a2a406b5a05063c31f4dfdee7608986ba7c6393f7f79db5e69dcd197208534.9dad9043216064080cf9dd3711c53c0f11fe2b09313eaa66931057b4bdcaf068.lock\n",
      "01/15/2020 18:08:22 - INFO - filelock -   Lock 139737179025248 released on /home/projectx/.cache/torch/transformers/e1a2a406b5a05063c31f4dfdee7608986ba7c6393f7f79db5e69dcd197208534.9dad9043216064080cf9dd3711c53c0f11fe2b09313eaa66931057b4bdcaf068.lock\n",
      "01/15/2020 18:08:22 - INFO - transformers.configuration_utils -   loading configuration file https://s3.amazonaws.com/models.huggingface.co/bert/roberta-base-config.json from cache at /home/projectx/.cache/torch/transformers/e1a2a406b5a05063c31f4dfdee7608986ba7c6393f7f79db5e69dcd197208534.9dad9043216064080cf9dd3711c53c0f11fe2b09313eaa66931057b4bdcaf068\n",
      "01/15/2020 18:08:22 - INFO - transformers.configuration_utils -   Model config {\n",
      "  \"attention_probs_dropout_prob\": 0.1,\n",
      "  \"bos_token_id\": 0,\n",
      "  \"do_sample\": false,\n",
      "  \"eos_token_ids\": 0,\n",
      "  \"finetuning_task\": null,\n",
      "  \"hidden_act\": \"gelu\",\n",
      "  \"hidden_dropout_prob\": 0.1,\n",
      "  \"hidden_size\": 768,\n",
      "  \"id2label\": {\n",
      "    \"0\": \"LABEL_0\",\n",
      "    \"1\": \"LABEL_1\"\n",
      "  },\n",
      "  \"initializer_range\": 0.02,\n",
      "  \"intermediate_size\": 3072,\n",
      "  \"is_decoder\": false,\n",
      "  \"label2id\": {\n",
      "    \"LABEL_0\": 0,\n",
      "    \"LABEL_1\": 1\n",
      "  },\n",
      "  \"layer_norm_eps\": 1e-05,\n",
      "  \"length_penalty\": 1.0,\n",
      "  \"max_length\": 20,\n",
      "  \"max_position_embeddings\": 514,\n",
      "  \"num_attention_heads\": 12,\n",
      "  \"num_beams\": 1,\n",
      "  \"num_hidden_layers\": 12,\n",
      "  \"num_labels\": 2,\n",
      "  \"num_return_sequences\": 1,\n",
      "  \"output_attentions\": false,\n",
      "  \"output_hidden_states\": false,\n",
      "  \"output_past\": true,\n",
      "  \"pad_token_id\": 0,\n",
      "  \"pruned_heads\": {},\n",
      "  \"repetition_penalty\": 1.0,\n",
      "  \"temperature\": 1.0,\n",
      "  \"top_k\": 50,\n",
      "  \"top_p\": 1.0,\n",
      "  \"torchscript\": false,\n",
      "  \"type_vocab_size\": 1,\n",
      "  \"use_bfloat16\": false,\n",
      "  \"vocab_size\": 50265\n",
      "}\n",
      "\n",
      "01/15/2020 18:08:23 - INFO - filelock -   Lock 139739133054536 acquired on /home/projectx/.cache/torch/transformers/d0c5776499adc1ded22493fae699da0971c1ee4c2587111707a4d177d20257a2.ef00af9e673c7160b4d41cfda1f48c5f4cba57d5142754525572a846a1ab1b9b.lock\n",
      "01/15/2020 18:08:23 - INFO - filelock -   Lock 139739133054536 released on /home/projectx/.cache/torch/transformers/d0c5776499adc1ded22493fae699da0971c1ee4c2587111707a4d177d20257a2.ef00af9e673c7160b4d41cfda1f48c5f4cba57d5142754525572a846a1ab1b9b.lock\n",
      "01/15/2020 18:08:24 - INFO - filelock -   Lock 139739133054536 acquired on /home/projectx/.cache/torch/transformers/b35e7cd126cd4229a746b5d5c29a749e8e84438b14bcdb575950584fe33207e8.70bec105b4158ed9a1747fea67a43f5dee97855c64d62b6ec3742f4cfdb5feda.lock\n",
      "01/15/2020 18:08:24 - INFO - filelock -   Lock 139739133054536 released on /home/projectx/.cache/torch/transformers/b35e7cd126cd4229a746b5d5c29a749e8e84438b14bcdb575950584fe33207e8.70bec105b4158ed9a1747fea67a43f5dee97855c64d62b6ec3742f4cfdb5feda.lock\n",
      "01/15/2020 18:08:24 - INFO - transformers.tokenization_utils -   loading file https://s3.amazonaws.com/models.huggingface.co/bert/roberta-base-vocab.json from cache at /home/projectx/.cache/torch/transformers/d0c5776499adc1ded22493fae699da0971c1ee4c2587111707a4d177d20257a2.ef00af9e673c7160b4d41cfda1f48c5f4cba57d5142754525572a846a1ab1b9b\n",
      "01/15/2020 18:08:24 - INFO - transformers.tokenization_utils -   loading file https://s3.amazonaws.com/models.huggingface.co/bert/roberta-base-merges.txt from cache at /home/projectx/.cache/torch/transformers/b35e7cd126cd4229a746b5d5c29a749e8e84438b14bcdb575950584fe33207e8.70bec105b4158ed9a1747fea67a43f5dee97855c64d62b6ec3742f4cfdb5feda\n"
     ]
    }
   ],
   "source": [
    "_, tokenizer_class, config_class , model_class = MODEL_CLASSES[model_type]\n",
    "\n",
    "config = config_class.from_pretrained(RoBERTa_HP.model_name_or_path,\n",
    "                                      do_lower_case = RoBERTa_HP.do_lower_case\n",
    "                                     )\n",
    "\n",
    "tokenizer = tokenizer_class.from_pretrained(RoBERTa_HP.model_name_or_path,\n",
    "                                            do_lower_case = RoBERTa_HP.do_lower_case\n",
    "                                           )\n"
   ]
  },
  {
   "cell_type": "code",
   "execution_count": 22,
   "metadata": {
    "scrolled": true
   },
   "outputs": [
    {
     "name": "stderr",
     "output_type": "stream",
     "text": [
      "01/15/2020 18:08:25 - INFO - filelock -   Lock 139736631374176 acquired on /home/projectx/.cache/torch/transformers/228756ed15b6d200d7cb45aaef08c087e2706f54cb912863d2efe07c89584eb7.49b88ba7ec2c26a7558dda98ca3884c3b80fa31cf43a1b1f23aef3ff81ba344e.lock\n",
      "01/15/2020 18:08:25 - INFO - filelock -   Lock 139736631374176 released on /home/projectx/.cache/torch/transformers/228756ed15b6d200d7cb45aaef08c087e2706f54cb912863d2efe07c89584eb7.49b88ba7ec2c26a7558dda98ca3884c3b80fa31cf43a1b1f23aef3ff81ba344e.lock\n",
      "01/15/2020 18:08:25 - INFO - transformers.modeling_utils -   loading weights file https://s3.amazonaws.com/models.huggingface.co/bert/roberta-base-pytorch_model.bin from cache at /home/projectx/.cache/torch/transformers/228756ed15b6d200d7cb45aaef08c087e2706f54cb912863d2efe07c89584eb7.49b88ba7ec2c26a7558dda98ca3884c3b80fa31cf43a1b1f23aef3ff81ba344e\n"
     ]
    }
   ],
   "source": [
    "model = model_class.from_pretrained(\n",
    "        RoBERTa_HP.model_name_or_path,\n",
    "        config  = config\n",
    ")\n",
    "model.to(RoBERTa_HP.device);"
   ]
  },
  {
   "cell_type": "markdown",
   "metadata": {},
   "source": [
    "# The Training Begins"
   ]
  },
  {
   "cell_type": "code",
   "execution_count": 40,
   "metadata": {
    "scrolled": false
   },
   "outputs": [
    {
     "name": "stderr",
     "output_type": "stream",
     "text": [
      "01/08/2020 14:23:43 - INFO - __main__ -   Creating features from dataset file at \n",
      "01/08/2020 14:25:34 - INFO - __main__ -   Saving features into cached file roberta-base_cached_lm_510_train_data_LM.txt\n"
     ]
    }
   ],
   "source": [
    "# create training file for language model training\n",
    "train_dataset = load_and_cache_examples(RoBERTa_HP, tokenizer, evaluate=False)\n",
    "\n",
    "# save in pickle file\n",
    "try_save(train_dataset, Path(os.getcwd()),'train_dataset.pkl')"
   ]
  },
  {
   "cell_type": "code",
   "execution_count": 41,
   "metadata": {},
   "outputs": [
    {
     "name": "stderr",
     "output_type": "stream",
     "text": [
      "01/08/2020 14:25:35 - INFO - __main__ -   Creating features from dataset file at \n",
      "01/08/2020 14:25:47 - INFO - __main__ -   Saving features into cached file roberta-base_cached_lm_510_test_data_LM.txt\n"
     ]
    }
   ],
   "source": [
    "# create test file for language model training\n",
    "test_dataset = load_and_cache_examples(RoBERTa_HP, tokenizer, evaluate=True)\n",
    "\n",
    "# save in pickle file\n",
    "try_save(train_dataset, Path(os.getcwd()),'train_dataset.pkl')"
   ]
  },
  {
   "cell_type": "code",
   "execution_count": 23,
   "metadata": {},
   "outputs": [],
   "source": [
    "# Read the pickle files so that we only need to create the dataset files once\n",
    "def load_data(path:PathOrStr=os.getcwd(), file:PathLikeOrBinaryStream='data_save.pkl', **kwargs)->Dataset:\n",
    "    \"Load a saved `Dataset` from `path/file`. `file` can be file-like (file or buffer)\"\n",
    "    source = Path(path)/file if is_pathlike(file) else file\n",
    "    ds = torch.load(source)\n",
    "    return ds"
   ]
  },
  {
   "cell_type": "code",
   "execution_count": 24,
   "metadata": {},
   "outputs": [],
   "source": [
    "train_dataset = load_data(os.getcwd(),'train_dataset.pkl' )\n",
    "test_dataset = load_data(os.getcwd(),'test_dataset.pkl' )"
   ]
  },
  {
   "cell_type": "code",
   "execution_count": 25,
   "metadata": {},
   "outputs": [
    {
     "data": {
      "text/plain": [
       "(52662, 5838)"
      ]
     },
     "execution_count": 25,
     "metadata": {},
     "output_type": "execute_result"
    }
   ],
   "source": [
    "len(train_dataset), len(test_dataset)"
   ]
  },
  {
   "cell_type": "markdown",
   "metadata": {},
   "source": [
    "## Here we train"
   ]
  },
  {
   "cell_type": "code",
   "execution_count": 26,
   "metadata": {
    "scrolled": true
   },
   "outputs": [
    {
     "name": "stderr",
     "output_type": "stream",
     "text": [
      "01/15/2020 18:09:04 - INFO - __main__ -   ***** Running training *****\n",
      "01/15/2020 18:09:04 - INFO - __main__ -     Num examples = 52662\n",
      "01/15/2020 18:09:04 - INFO - __main__ -     Num Epochs = 8\n",
      "01/15/2020 18:09:04 - INFO - __main__ -     Instantaneous batch size per GPU = 4\n",
      "01/15/2020 18:09:04 - INFO - __main__ -     Total optimization steps = 105328\n",
      "Epoch:   0%|          | 0/8 [00:00<?, ?it/s]01/15/2020 18:34:29 - INFO - transformers.configuration_utils -   Configuration saved in /home/projectx/Documents/Transformers-in-NLP/fine_tuning_LM/checkpoint-4000/config.json\n",
      "01/15/2020 18:34:29 - INFO - transformers.modeling_utils -   Model weights saved in /home/projectx/Documents/Transformers-in-NLP/fine_tuning_LM/checkpoint-4000/pytorch_model.bin\n",
      "01/15/2020 18:34:29 - INFO - __main__ -   Saving model checkpoint to /home/projectx/Documents/Transformers-in-NLP/fine_tuning_LM/checkpoint-4000\n",
      "01/15/2020 18:34:32 - INFO - __main__ -   Saving optimizer and scheduler states to /home/projectx/Documents/Transformers-in-NLP/fine_tuning_LM/checkpoint-4000\n",
      "01/15/2020 19:00:01 - INFO - transformers.configuration_utils -   Configuration saved in /home/projectx/Documents/Transformers-in-NLP/fine_tuning_LM/checkpoint-8000/config.json\n",
      "01/15/2020 19:00:01 - INFO - transformers.modeling_utils -   Model weights saved in /home/projectx/Documents/Transformers-in-NLP/fine_tuning_LM/checkpoint-8000/pytorch_model.bin\n",
      "01/15/2020 19:00:01 - INFO - __main__ -   Saving model checkpoint to /home/projectx/Documents/Transformers-in-NLP/fine_tuning_LM/checkpoint-8000\n",
      "01/15/2020 19:00:05 - INFO - __main__ -   Saving optimizer and scheduler states to /home/projectx/Documents/Transformers-in-NLP/fine_tuning_LM/checkpoint-8000\n",
      "01/15/2020 19:25:31 - INFO - transformers.configuration_utils -   Configuration saved in /home/projectx/Documents/Transformers-in-NLP/fine_tuning_LM/checkpoint-12000/config.json\n",
      "01/15/2020 19:25:32 - INFO - transformers.modeling_utils -   Model weights saved in /home/projectx/Documents/Transformers-in-NLP/fine_tuning_LM/checkpoint-12000/pytorch_model.bin\n",
      "01/15/2020 19:25:32 - INFO - __main__ -   Saving model checkpoint to /home/projectx/Documents/Transformers-in-NLP/fine_tuning_LM/checkpoint-12000\n",
      "01/15/2020 19:25:35 - INFO - __main__ -   Saving optimizer and scheduler states to /home/projectx/Documents/Transformers-in-NLP/fine_tuning_LM/checkpoint-12000\n",
      "Epoch:  12%|█▎        | 1/8 [1:23:56<9:47:38, 5036.98s/it]01/15/2020 19:51:03 - INFO - transformers.configuration_utils -   Configuration saved in /home/projectx/Documents/Transformers-in-NLP/fine_tuning_LM/checkpoint-16000/config.json\n",
      "01/15/2020 19:51:03 - INFO - transformers.modeling_utils -   Model weights saved in /home/projectx/Documents/Transformers-in-NLP/fine_tuning_LM/checkpoint-16000/pytorch_model.bin\n",
      "01/15/2020 19:51:04 - INFO - __main__ -   Saving model checkpoint to /home/projectx/Documents/Transformers-in-NLP/fine_tuning_LM/checkpoint-16000\n",
      "01/15/2020 19:51:07 - INFO - __main__ -   Saving optimizer and scheduler states to /home/projectx/Documents/Transformers-in-NLP/fine_tuning_LM/checkpoint-16000\n",
      "01/15/2020 20:16:33 - INFO - transformers.configuration_utils -   Configuration saved in /home/projectx/Documents/Transformers-in-NLP/fine_tuning_LM/checkpoint-20000/config.json\n",
      "01/15/2020 20:16:34 - INFO - transformers.modeling_utils -   Model weights saved in /home/projectx/Documents/Transformers-in-NLP/fine_tuning_LM/checkpoint-20000/pytorch_model.bin\n",
      "01/15/2020 20:16:34 - INFO - __main__ -   Saving model checkpoint to /home/projectx/Documents/Transformers-in-NLP/fine_tuning_LM/checkpoint-20000\n",
      "01/15/2020 20:16:37 - INFO - __main__ -   Saving optimizer and scheduler states to /home/projectx/Documents/Transformers-in-NLP/fine_tuning_LM/checkpoint-20000\n",
      "01/15/2020 20:42:06 - INFO - transformers.configuration_utils -   Configuration saved in /home/projectx/Documents/Transformers-in-NLP/fine_tuning_LM/checkpoint-24000/config.json\n",
      "01/15/2020 20:42:07 - INFO - transformers.modeling_utils -   Model weights saved in /home/projectx/Documents/Transformers-in-NLP/fine_tuning_LM/checkpoint-24000/pytorch_model.bin\n",
      "01/15/2020 20:42:07 - INFO - __main__ -   Saving model checkpoint to /home/projectx/Documents/Transformers-in-NLP/fine_tuning_LM/checkpoint-24000\n",
      "01/15/2020 20:42:11 - INFO - __main__ -   Saving optimizer and scheduler states to /home/projectx/Documents/Transformers-in-NLP/fine_tuning_LM/checkpoint-24000\n",
      "Epoch:  25%|██▌       | 2/8 [2:47:58<8:23:50, 5038.47s/it]01/15/2020 21:07:40 - INFO - transformers.configuration_utils -   Configuration saved in /home/projectx/Documents/Transformers-in-NLP/fine_tuning_LM/checkpoint-28000/config.json\n",
      "01/15/2020 21:07:41 - INFO - transformers.modeling_utils -   Model weights saved in /home/projectx/Documents/Transformers-in-NLP/fine_tuning_LM/checkpoint-28000/pytorch_model.bin\n",
      "01/15/2020 21:07:41 - INFO - __main__ -   Saving model checkpoint to /home/projectx/Documents/Transformers-in-NLP/fine_tuning_LM/checkpoint-28000\n",
      "01/15/2020 21:07:44 - INFO - __main__ -   Saving optimizer and scheduler states to /home/projectx/Documents/Transformers-in-NLP/fine_tuning_LM/checkpoint-28000\n",
      "01/15/2020 21:33:13 - INFO - transformers.configuration_utils -   Configuration saved in /home/projectx/Documents/Transformers-in-NLP/fine_tuning_LM/checkpoint-32000/config.json\n",
      "01/15/2020 21:33:14 - INFO - transformers.modeling_utils -   Model weights saved in /home/projectx/Documents/Transformers-in-NLP/fine_tuning_LM/checkpoint-32000/pytorch_model.bin\n",
      "01/15/2020 21:33:14 - INFO - __main__ -   Saving model checkpoint to /home/projectx/Documents/Transformers-in-NLP/fine_tuning_LM/checkpoint-32000\n",
      "01/15/2020 21:33:17 - INFO - __main__ -   Saving optimizer and scheduler states to /home/projectx/Documents/Transformers-in-NLP/fine_tuning_LM/checkpoint-32000\n",
      "01/15/2020 21:58:43 - INFO - transformers.configuration_utils -   Configuration saved in /home/projectx/Documents/Transformers-in-NLP/fine_tuning_LM/checkpoint-36000/config.json\n",
      "01/15/2020 21:58:43 - INFO - transformers.modeling_utils -   Model weights saved in /home/projectx/Documents/Transformers-in-NLP/fine_tuning_LM/checkpoint-36000/pytorch_model.bin\n",
      "01/15/2020 21:58:43 - INFO - __main__ -   Saving model checkpoint to /home/projectx/Documents/Transformers-in-NLP/fine_tuning_LM/checkpoint-36000\n",
      "01/15/2020 21:58:46 - INFO - __main__ -   Saving optimizer and scheduler states to /home/projectx/Documents/Transformers-in-NLP/fine_tuning_LM/checkpoint-36000\n",
      "Epoch:  38%|███▊      | 3/8 [4:11:58<6:59:54, 5038.85s/it]01/15/2020 22:24:15 - INFO - transformers.configuration_utils -   Configuration saved in /home/projectx/Documents/Transformers-in-NLP/fine_tuning_LM/checkpoint-40000/config.json\n",
      "01/15/2020 22:24:16 - INFO - transformers.modeling_utils -   Model weights saved in /home/projectx/Documents/Transformers-in-NLP/fine_tuning_LM/checkpoint-40000/pytorch_model.bin\n",
      "01/15/2020 22:24:16 - INFO - __main__ -   Saving model checkpoint to /home/projectx/Documents/Transformers-in-NLP/fine_tuning_LM/checkpoint-40000\n",
      "01/15/2020 22:24:19 - INFO - __main__ -   Saving optimizer and scheduler states to /home/projectx/Documents/Transformers-in-NLP/fine_tuning_LM/checkpoint-40000\n",
      "01/15/2020 22:49:49 - INFO - transformers.configuration_utils -   Configuration saved in /home/projectx/Documents/Transformers-in-NLP/fine_tuning_LM/checkpoint-44000/config.json\n",
      "01/15/2020 22:49:50 - INFO - transformers.modeling_utils -   Model weights saved in /home/projectx/Documents/Transformers-in-NLP/fine_tuning_LM/checkpoint-44000/pytorch_model.bin\n",
      "01/15/2020 22:49:50 - INFO - __main__ -   Saving model checkpoint to /home/projectx/Documents/Transformers-in-NLP/fine_tuning_LM/checkpoint-44000\n",
      "01/15/2020 22:49:53 - INFO - __main__ -   Saving optimizer and scheduler states to /home/projectx/Documents/Transformers-in-NLP/fine_tuning_LM/checkpoint-44000\n",
      "01/15/2020 23:15:24 - INFO - transformers.configuration_utils -   Configuration saved in /home/projectx/Documents/Transformers-in-NLP/fine_tuning_LM/checkpoint-48000/config.json\n",
      "01/15/2020 23:15:24 - INFO - transformers.modeling_utils -   Model weights saved in /home/projectx/Documents/Transformers-in-NLP/fine_tuning_LM/checkpoint-48000/pytorch_model.bin\n"
     ]
    },
    {
     "name": "stderr",
     "output_type": "stream",
     "text": [
      "01/15/2020 23:15:25 - INFO - __main__ -   Saving model checkpoint to /home/projectx/Documents/Transformers-in-NLP/fine_tuning_LM/checkpoint-48000\n",
      "01/15/2020 23:15:27 - INFO - __main__ -   Saving optimizer and scheduler states to /home/projectx/Documents/Transformers-in-NLP/fine_tuning_LM/checkpoint-48000\n",
      "01/15/2020 23:40:59 - INFO - transformers.configuration_utils -   Configuration saved in /home/projectx/Documents/Transformers-in-NLP/fine_tuning_LM/checkpoint-52000/config.json\n",
      "01/15/2020 23:41:03 - INFO - transformers.modeling_utils -   Model weights saved in /home/projectx/Documents/Transformers-in-NLP/fine_tuning_LM/checkpoint-52000/pytorch_model.bin\n",
      "01/15/2020 23:41:03 - INFO - __main__ -   Saving model checkpoint to /home/projectx/Documents/Transformers-in-NLP/fine_tuning_LM/checkpoint-52000\n",
      "01/15/2020 23:41:12 - INFO - __main__ -   Saving optimizer and scheduler states to /home/projectx/Documents/Transformers-in-NLP/fine_tuning_LM/checkpoint-52000\n",
      "Epoch:  50%|█████     | 4/8 [5:36:22<5:36:25, 5046.34s/it]01/16/2020 00:06:44 - INFO - transformers.configuration_utils -   Configuration saved in /home/projectx/Documents/Transformers-in-NLP/fine_tuning_LM/checkpoint-56000/config.json\n",
      "01/16/2020 00:06:44 - INFO - transformers.modeling_utils -   Model weights saved in /home/projectx/Documents/Transformers-in-NLP/fine_tuning_LM/checkpoint-56000/pytorch_model.bin\n",
      "01/16/2020 00:06:44 - INFO - __main__ -   Saving model checkpoint to /home/projectx/Documents/Transformers-in-NLP/fine_tuning_LM/checkpoint-56000\n",
      "01/16/2020 00:06:48 - INFO - __main__ -   Saving optimizer and scheduler states to /home/projectx/Documents/Transformers-in-NLP/fine_tuning_LM/checkpoint-56000\n",
      "01/16/2020 00:32:17 - INFO - transformers.configuration_utils -   Configuration saved in /home/projectx/Documents/Transformers-in-NLP/fine_tuning_LM/checkpoint-60000/config.json\n",
      "01/16/2020 00:32:17 - INFO - transformers.modeling_utils -   Model weights saved in /home/projectx/Documents/Transformers-in-NLP/fine_tuning_LM/checkpoint-60000/pytorch_model.bin\n",
      "01/16/2020 00:32:17 - INFO - __main__ -   Saving model checkpoint to /home/projectx/Documents/Transformers-in-NLP/fine_tuning_LM/checkpoint-60000\n",
      "01/16/2020 00:32:20 - INFO - __main__ -   Saving optimizer and scheduler states to /home/projectx/Documents/Transformers-in-NLP/fine_tuning_LM/checkpoint-60000\n",
      "01/16/2020 00:57:51 - INFO - transformers.configuration_utils -   Configuration saved in /home/projectx/Documents/Transformers-in-NLP/fine_tuning_LM/checkpoint-64000/config.json\n",
      "01/16/2020 00:57:52 - INFO - transformers.modeling_utils -   Model weights saved in /home/projectx/Documents/Transformers-in-NLP/fine_tuning_LM/checkpoint-64000/pytorch_model.bin\n",
      "01/16/2020 00:57:52 - INFO - __main__ -   Saving model checkpoint to /home/projectx/Documents/Transformers-in-NLP/fine_tuning_LM/checkpoint-64000\n",
      "01/16/2020 00:57:52 - INFO - __main__ -   Deleting older checkpoint [/home/projectx/Documents/Transformers-in-NLP/fine_tuning_LM/checkpoint-4000] due to HP.save_total_limit\n",
      "01/16/2020 00:57:55 - INFO - __main__ -   Saving optimizer and scheduler states to /home/projectx/Documents/Transformers-in-NLP/fine_tuning_LM/checkpoint-64000\n",
      "Epoch:  62%|██████▎   | 5/8 [7:00:30<4:12:20, 5046.91s/it]01/16/2020 01:23:24 - INFO - transformers.configuration_utils -   Configuration saved in /home/projectx/Documents/Transformers-in-NLP/fine_tuning_LM/checkpoint-68000/config.json\n",
      "01/16/2020 01:23:24 - INFO - transformers.modeling_utils -   Model weights saved in /home/projectx/Documents/Transformers-in-NLP/fine_tuning_LM/checkpoint-68000/pytorch_model.bin\n",
      "01/16/2020 01:23:24 - INFO - __main__ -   Saving model checkpoint to /home/projectx/Documents/Transformers-in-NLP/fine_tuning_LM/checkpoint-68000\n",
      "01/16/2020 01:23:24 - INFO - __main__ -   Deleting older checkpoint [/home/projectx/Documents/Transformers-in-NLP/fine_tuning_LM/checkpoint-4000] due to HP.save_total_limit\n",
      "01/16/2020 01:23:24 - INFO - __main__ -   Deleting older checkpoint [/home/projectx/Documents/Transformers-in-NLP/fine_tuning_LM/checkpoint-8000] due to HP.save_total_limit\n",
      "01/16/2020 01:23:28 - INFO - __main__ -   Saving optimizer and scheduler states to /home/projectx/Documents/Transformers-in-NLP/fine_tuning_LM/checkpoint-68000\n",
      "01/16/2020 01:48:59 - INFO - transformers.configuration_utils -   Configuration saved in /home/projectx/Documents/Transformers-in-NLP/fine_tuning_LM/checkpoint-72000/config.json\n",
      "01/16/2020 01:48:59 - INFO - transformers.modeling_utils -   Model weights saved in /home/projectx/Documents/Transformers-in-NLP/fine_tuning_LM/checkpoint-72000/pytorch_model.bin\n",
      "01/16/2020 01:49:00 - INFO - __main__ -   Saving model checkpoint to /home/projectx/Documents/Transformers-in-NLP/fine_tuning_LM/checkpoint-72000\n",
      "01/16/2020 01:49:00 - INFO - __main__ -   Deleting older checkpoint [/home/projectx/Documents/Transformers-in-NLP/fine_tuning_LM/checkpoint-4000] due to HP.save_total_limit\n",
      "01/16/2020 01:49:00 - INFO - __main__ -   Deleting older checkpoint [/home/projectx/Documents/Transformers-in-NLP/fine_tuning_LM/checkpoint-8000] due to HP.save_total_limit\n",
      "01/16/2020 01:49:00 - INFO - __main__ -   Deleting older checkpoint [/home/projectx/Documents/Transformers-in-NLP/fine_tuning_LM/checkpoint-12000] due to HP.save_total_limit\n",
      "01/16/2020 01:49:03 - INFO - __main__ -   Saving optimizer and scheduler states to /home/projectx/Documents/Transformers-in-NLP/fine_tuning_LM/checkpoint-72000\n",
      "01/16/2020 02:14:35 - INFO - transformers.configuration_utils -   Configuration saved in /home/projectx/Documents/Transformers-in-NLP/fine_tuning_LM/checkpoint-76000/config.json\n",
      "01/16/2020 02:14:35 - INFO - transformers.modeling_utils -   Model weights saved in /home/projectx/Documents/Transformers-in-NLP/fine_tuning_LM/checkpoint-76000/pytorch_model.bin\n",
      "01/16/2020 02:14:36 - INFO - __main__ -   Saving model checkpoint to /home/projectx/Documents/Transformers-in-NLP/fine_tuning_LM/checkpoint-76000\n",
      "01/16/2020 02:14:36 - INFO - __main__ -   Deleting older checkpoint [/home/projectx/Documents/Transformers-in-NLP/fine_tuning_LM/checkpoint-4000] due to HP.save_total_limit\n",
      "01/16/2020 02:14:36 - INFO - __main__ -   Deleting older checkpoint [/home/projectx/Documents/Transformers-in-NLP/fine_tuning_LM/checkpoint-8000] due to HP.save_total_limit\n",
      "01/16/2020 02:14:36 - INFO - __main__ -   Deleting older checkpoint [/home/projectx/Documents/Transformers-in-NLP/fine_tuning_LM/checkpoint-12000] due to HP.save_total_limit\n",
      "01/16/2020 02:14:36 - INFO - __main__ -   Deleting older checkpoint [/home/projectx/Documents/Transformers-in-NLP/fine_tuning_LM/checkpoint-16000] due to HP.save_total_limit\n",
      "01/16/2020 02:14:39 - INFO - __main__ -   Saving optimizer and scheduler states to /home/projectx/Documents/Transformers-in-NLP/fine_tuning_LM/checkpoint-76000\n",
      "Epoch:  75%|███████▌  | 6/8 [8:24:40<2:48:15, 5047.75s/it]01/16/2020 02:40:09 - INFO - transformers.configuration_utils -   Configuration saved in /home/projectx/Documents/Transformers-in-NLP/fine_tuning_LM/checkpoint-80000/config.json\n",
      "01/16/2020 02:40:09 - INFO - transformers.modeling_utils -   Model weights saved in /home/projectx/Documents/Transformers-in-NLP/fine_tuning_LM/checkpoint-80000/pytorch_model.bin\n",
      "01/16/2020 02:40:09 - INFO - __main__ -   Saving model checkpoint to /home/projectx/Documents/Transformers-in-NLP/fine_tuning_LM/checkpoint-80000\n",
      "01/16/2020 02:40:09 - INFO - __main__ -   Deleting older checkpoint [/home/projectx/Documents/Transformers-in-NLP/fine_tuning_LM/checkpoint-4000] due to HP.save_total_limit\n",
      "01/16/2020 02:40:09 - INFO - __main__ -   Deleting older checkpoint [/home/projectx/Documents/Transformers-in-NLP/fine_tuning_LM/checkpoint-8000] due to HP.save_total_limit\n",
      "01/16/2020 02:40:09 - INFO - __main__ -   Deleting older checkpoint [/home/projectx/Documents/Transformers-in-NLP/fine_tuning_LM/checkpoint-12000] due to HP.save_total_limit\n",
      "01/16/2020 02:40:09 - INFO - __main__ -   Deleting older checkpoint [/home/projectx/Documents/Transformers-in-NLP/fine_tuning_LM/checkpoint-16000] due to HP.save_total_limit\n",
      "01/16/2020 02:40:09 - INFO - __main__ -   Deleting older checkpoint [/home/projectx/Documents/Transformers-in-NLP/fine_tuning_LM/checkpoint-20000] due to HP.save_total_limit\n"
     ]
    },
    {
     "name": "stderr",
     "output_type": "stream",
     "text": [
      "01/16/2020 02:40:12 - INFO - __main__ -   Saving optimizer and scheduler states to /home/projectx/Documents/Transformers-in-NLP/fine_tuning_LM/checkpoint-80000\n",
      "01/16/2020 03:05:44 - INFO - transformers.configuration_utils -   Configuration saved in /home/projectx/Documents/Transformers-in-NLP/fine_tuning_LM/checkpoint-84000/config.json\n",
      "01/16/2020 03:05:44 - INFO - transformers.modeling_utils -   Model weights saved in /home/projectx/Documents/Transformers-in-NLP/fine_tuning_LM/checkpoint-84000/pytorch_model.bin\n",
      "01/16/2020 03:05:44 - INFO - __main__ -   Saving model checkpoint to /home/projectx/Documents/Transformers-in-NLP/fine_tuning_LM/checkpoint-84000\n",
      "01/16/2020 03:05:44 - INFO - __main__ -   Deleting older checkpoint [/home/projectx/Documents/Transformers-in-NLP/fine_tuning_LM/checkpoint-4000] due to HP.save_total_limit\n",
      "01/16/2020 03:05:44 - INFO - __main__ -   Deleting older checkpoint [/home/projectx/Documents/Transformers-in-NLP/fine_tuning_LM/checkpoint-8000] due to HP.save_total_limit\n",
      "01/16/2020 03:05:44 - INFO - __main__ -   Deleting older checkpoint [/home/projectx/Documents/Transformers-in-NLP/fine_tuning_LM/checkpoint-12000] due to HP.save_total_limit\n",
      "01/16/2020 03:05:44 - INFO - __main__ -   Deleting older checkpoint [/home/projectx/Documents/Transformers-in-NLP/fine_tuning_LM/checkpoint-16000] due to HP.save_total_limit\n",
      "01/16/2020 03:05:44 - INFO - __main__ -   Deleting older checkpoint [/home/projectx/Documents/Transformers-in-NLP/fine_tuning_LM/checkpoint-20000] due to HP.save_total_limit\n",
      "01/16/2020 03:05:44 - INFO - __main__ -   Deleting older checkpoint [/home/projectx/Documents/Transformers-in-NLP/fine_tuning_LM/checkpoint-24000] due to HP.save_total_limit\n",
      "01/16/2020 03:05:47 - INFO - __main__ -   Saving optimizer and scheduler states to /home/projectx/Documents/Transformers-in-NLP/fine_tuning_LM/checkpoint-84000\n",
      "01/16/2020 03:31:21 - INFO - transformers.configuration_utils -   Configuration saved in /home/projectx/Documents/Transformers-in-NLP/fine_tuning_LM/checkpoint-88000/config.json\n",
      "01/16/2020 03:31:22 - INFO - transformers.modeling_utils -   Model weights saved in /home/projectx/Documents/Transformers-in-NLP/fine_tuning_LM/checkpoint-88000/pytorch_model.bin\n",
      "01/16/2020 03:31:22 - INFO - __main__ -   Saving model checkpoint to /home/projectx/Documents/Transformers-in-NLP/fine_tuning_LM/checkpoint-88000\n",
      "01/16/2020 03:31:22 - INFO - __main__ -   Deleting older checkpoint [/home/projectx/Documents/Transformers-in-NLP/fine_tuning_LM/checkpoint-4000] due to HP.save_total_limit\n",
      "01/16/2020 03:31:22 - INFO - __main__ -   Deleting older checkpoint [/home/projectx/Documents/Transformers-in-NLP/fine_tuning_LM/checkpoint-8000] due to HP.save_total_limit\n",
      "01/16/2020 03:31:22 - INFO - __main__ -   Deleting older checkpoint [/home/projectx/Documents/Transformers-in-NLP/fine_tuning_LM/checkpoint-12000] due to HP.save_total_limit\n",
      "01/16/2020 03:31:22 - INFO - __main__ -   Deleting older checkpoint [/home/projectx/Documents/Transformers-in-NLP/fine_tuning_LM/checkpoint-16000] due to HP.save_total_limit\n",
      "01/16/2020 03:31:22 - INFO - __main__ -   Deleting older checkpoint [/home/projectx/Documents/Transformers-in-NLP/fine_tuning_LM/checkpoint-20000] due to HP.save_total_limit\n",
      "01/16/2020 03:31:22 - INFO - __main__ -   Deleting older checkpoint [/home/projectx/Documents/Transformers-in-NLP/fine_tuning_LM/checkpoint-24000] due to HP.save_total_limit\n",
      "01/16/2020 03:31:22 - INFO - __main__ -   Deleting older checkpoint [/home/projectx/Documents/Transformers-in-NLP/fine_tuning_LM/checkpoint-28000] due to HP.save_total_limit\n",
      "01/16/2020 03:31:25 - INFO - __main__ -   Saving optimizer and scheduler states to /home/projectx/Documents/Transformers-in-NLP/fine_tuning_LM/checkpoint-88000\n",
      "01/16/2020 03:56:59 - INFO - transformers.configuration_utils -   Configuration saved in /home/projectx/Documents/Transformers-in-NLP/fine_tuning_LM/checkpoint-92000/config.json\n",
      "01/16/2020 03:56:59 - INFO - transformers.modeling_utils -   Model weights saved in /home/projectx/Documents/Transformers-in-NLP/fine_tuning_LM/checkpoint-92000/pytorch_model.bin\n",
      "01/16/2020 03:56:59 - INFO - __main__ -   Saving model checkpoint to /home/projectx/Documents/Transformers-in-NLP/fine_tuning_LM/checkpoint-92000\n",
      "01/16/2020 03:56:59 - INFO - __main__ -   Deleting older checkpoint [/home/projectx/Documents/Transformers-in-NLP/fine_tuning_LM/checkpoint-4000] due to HP.save_total_limit\n",
      "01/16/2020 03:56:59 - INFO - __main__ -   Deleting older checkpoint [/home/projectx/Documents/Transformers-in-NLP/fine_tuning_LM/checkpoint-8000] due to HP.save_total_limit\n",
      "01/16/2020 03:56:59 - INFO - __main__ -   Deleting older checkpoint [/home/projectx/Documents/Transformers-in-NLP/fine_tuning_LM/checkpoint-12000] due to HP.save_total_limit\n",
      "01/16/2020 03:56:59 - INFO - __main__ -   Deleting older checkpoint [/home/projectx/Documents/Transformers-in-NLP/fine_tuning_LM/checkpoint-16000] due to HP.save_total_limit\n",
      "01/16/2020 03:56:59 - INFO - __main__ -   Deleting older checkpoint [/home/projectx/Documents/Transformers-in-NLP/fine_tuning_LM/checkpoint-20000] due to HP.save_total_limit\n",
      "01/16/2020 03:56:59 - INFO - __main__ -   Deleting older checkpoint [/home/projectx/Documents/Transformers-in-NLP/fine_tuning_LM/checkpoint-24000] due to HP.save_total_limit\n",
      "01/16/2020 03:56:59 - INFO - __main__ -   Deleting older checkpoint [/home/projectx/Documents/Transformers-in-NLP/fine_tuning_LM/checkpoint-28000] due to HP.save_total_limit\n",
      "01/16/2020 03:56:59 - INFO - __main__ -   Deleting older checkpoint [/home/projectx/Documents/Transformers-in-NLP/fine_tuning_LM/checkpoint-32000] due to HP.save_total_limit\n",
      "01/16/2020 03:57:02 - INFO - __main__ -   Saving optimizer and scheduler states to /home/projectx/Documents/Transformers-in-NLP/fine_tuning_LM/checkpoint-92000\n",
      "Epoch:  88%|████████▊ | 7/8 [9:48:59<1:24:11, 5051.29s/it]01/16/2020 04:22:34 - INFO - transformers.configuration_utils -   Configuration saved in /home/projectx/Documents/Transformers-in-NLP/fine_tuning_LM/checkpoint-96000/config.json\n",
      "01/16/2020 04:22:34 - INFO - transformers.modeling_utils -   Model weights saved in /home/projectx/Documents/Transformers-in-NLP/fine_tuning_LM/checkpoint-96000/pytorch_model.bin\n",
      "01/16/2020 04:22:34 - INFO - __main__ -   Saving model checkpoint to /home/projectx/Documents/Transformers-in-NLP/fine_tuning_LM/checkpoint-96000\n",
      "01/16/2020 04:22:34 - INFO - __main__ -   Deleting older checkpoint [/home/projectx/Documents/Transformers-in-NLP/fine_tuning_LM/checkpoint-4000] due to HP.save_total_limit\n",
      "01/16/2020 04:22:34 - INFO - __main__ -   Deleting older checkpoint [/home/projectx/Documents/Transformers-in-NLP/fine_tuning_LM/checkpoint-8000] due to HP.save_total_limit\n",
      "01/16/2020 04:22:34 - INFO - __main__ -   Deleting older checkpoint [/home/projectx/Documents/Transformers-in-NLP/fine_tuning_LM/checkpoint-12000] due to HP.save_total_limit\n",
      "01/16/2020 04:22:34 - INFO - __main__ -   Deleting older checkpoint [/home/projectx/Documents/Transformers-in-NLP/fine_tuning_LM/checkpoint-16000] due to HP.save_total_limit\n",
      "01/16/2020 04:22:34 - INFO - __main__ -   Deleting older checkpoint [/home/projectx/Documents/Transformers-in-NLP/fine_tuning_LM/checkpoint-20000] due to HP.save_total_limit\n",
      "01/16/2020 04:22:34 - INFO - __main__ -   Deleting older checkpoint [/home/projectx/Documents/Transformers-in-NLP/fine_tuning_LM/checkpoint-24000] due to HP.save_total_limit\n",
      "01/16/2020 04:22:34 - INFO - __main__ -   Deleting older checkpoint [/home/projectx/Documents/Transformers-in-NLP/fine_tuning_LM/checkpoint-28000] due to HP.save_total_limit\n",
      "01/16/2020 04:22:34 - INFO - __main__ -   Deleting older checkpoint [/home/projectx/Documents/Transformers-in-NLP/fine_tuning_LM/checkpoint-32000] due to HP.save_total_limit\n",
      "01/16/2020 04:22:34 - INFO - __main__ -   Deleting older checkpoint [/home/projectx/Documents/Transformers-in-NLP/fine_tuning_LM/checkpoint-36000] due to HP.save_total_limit\n",
      "01/16/2020 04:22:38 - INFO - __main__ -   Saving optimizer and scheduler states to /home/projectx/Documents/Transformers-in-NLP/fine_tuning_LM/checkpoint-96000\n",
      "01/16/2020 04:48:09 - INFO - transformers.configuration_utils -   Configuration saved in /home/projectx/Documents/Transformers-in-NLP/fine_tuning_LM/checkpoint-100000/config.json\n"
     ]
    },
    {
     "name": "stderr",
     "output_type": "stream",
     "text": [
      "01/16/2020 04:48:09 - INFO - transformers.modeling_utils -   Model weights saved in /home/projectx/Documents/Transformers-in-NLP/fine_tuning_LM/checkpoint-100000/pytorch_model.bin\n",
      "01/16/2020 04:48:09 - INFO - __main__ -   Saving model checkpoint to /home/projectx/Documents/Transformers-in-NLP/fine_tuning_LM/checkpoint-100000\n",
      "01/16/2020 04:48:09 - INFO - __main__ -   Deleting older checkpoint [/home/projectx/Documents/Transformers-in-NLP/fine_tuning_LM/checkpoint-4000] due to HP.save_total_limit\n",
      "01/16/2020 04:48:09 - INFO - __main__ -   Deleting older checkpoint [/home/projectx/Documents/Transformers-in-NLP/fine_tuning_LM/checkpoint-8000] due to HP.save_total_limit\n",
      "01/16/2020 04:48:09 - INFO - __main__ -   Deleting older checkpoint [/home/projectx/Documents/Transformers-in-NLP/fine_tuning_LM/checkpoint-12000] due to HP.save_total_limit\n",
      "01/16/2020 04:48:09 - INFO - __main__ -   Deleting older checkpoint [/home/projectx/Documents/Transformers-in-NLP/fine_tuning_LM/checkpoint-16000] due to HP.save_total_limit\n",
      "01/16/2020 04:48:09 - INFO - __main__ -   Deleting older checkpoint [/home/projectx/Documents/Transformers-in-NLP/fine_tuning_LM/checkpoint-20000] due to HP.save_total_limit\n",
      "01/16/2020 04:48:09 - INFO - __main__ -   Deleting older checkpoint [/home/projectx/Documents/Transformers-in-NLP/fine_tuning_LM/checkpoint-24000] due to HP.save_total_limit\n",
      "01/16/2020 04:48:09 - INFO - __main__ -   Deleting older checkpoint [/home/projectx/Documents/Transformers-in-NLP/fine_tuning_LM/checkpoint-28000] due to HP.save_total_limit\n",
      "01/16/2020 04:48:09 - INFO - __main__ -   Deleting older checkpoint [/home/projectx/Documents/Transformers-in-NLP/fine_tuning_LM/checkpoint-32000] due to HP.save_total_limit\n",
      "01/16/2020 04:48:09 - INFO - __main__ -   Deleting older checkpoint [/home/projectx/Documents/Transformers-in-NLP/fine_tuning_LM/checkpoint-36000] due to HP.save_total_limit\n",
      "01/16/2020 04:48:09 - INFO - __main__ -   Deleting older checkpoint [/home/projectx/Documents/Transformers-in-NLP/fine_tuning_LM/checkpoint-40000] due to HP.save_total_limit\n",
      "01/16/2020 04:48:13 - INFO - __main__ -   Saving optimizer and scheduler states to /home/projectx/Documents/Transformers-in-NLP/fine_tuning_LM/checkpoint-100000\n",
      "01/16/2020 05:13:43 - INFO - transformers.configuration_utils -   Configuration saved in /home/projectx/Documents/Transformers-in-NLP/fine_tuning_LM/checkpoint-104000/config.json\n",
      "01/16/2020 05:13:43 - INFO - transformers.modeling_utils -   Model weights saved in /home/projectx/Documents/Transformers-in-NLP/fine_tuning_LM/checkpoint-104000/pytorch_model.bin\n",
      "01/16/2020 05:13:44 - INFO - __main__ -   Saving model checkpoint to /home/projectx/Documents/Transformers-in-NLP/fine_tuning_LM/checkpoint-104000\n",
      "01/16/2020 05:13:44 - INFO - __main__ -   Deleting older checkpoint [/home/projectx/Documents/Transformers-in-NLP/fine_tuning_LM/checkpoint-4000] due to HP.save_total_limit\n",
      "01/16/2020 05:13:44 - INFO - __main__ -   Deleting older checkpoint [/home/projectx/Documents/Transformers-in-NLP/fine_tuning_LM/checkpoint-8000] due to HP.save_total_limit\n",
      "01/16/2020 05:13:44 - INFO - __main__ -   Deleting older checkpoint [/home/projectx/Documents/Transformers-in-NLP/fine_tuning_LM/checkpoint-12000] due to HP.save_total_limit\n",
      "01/16/2020 05:13:44 - INFO - __main__ -   Deleting older checkpoint [/home/projectx/Documents/Transformers-in-NLP/fine_tuning_LM/checkpoint-16000] due to HP.save_total_limit\n",
      "01/16/2020 05:13:44 - INFO - __main__ -   Deleting older checkpoint [/home/projectx/Documents/Transformers-in-NLP/fine_tuning_LM/checkpoint-20000] due to HP.save_total_limit\n",
      "01/16/2020 05:13:44 - INFO - __main__ -   Deleting older checkpoint [/home/projectx/Documents/Transformers-in-NLP/fine_tuning_LM/checkpoint-24000] due to HP.save_total_limit\n",
      "01/16/2020 05:13:44 - INFO - __main__ -   Deleting older checkpoint [/home/projectx/Documents/Transformers-in-NLP/fine_tuning_LM/checkpoint-28000] due to HP.save_total_limit\n",
      "01/16/2020 05:13:44 - INFO - __main__ -   Deleting older checkpoint [/home/projectx/Documents/Transformers-in-NLP/fine_tuning_LM/checkpoint-32000] due to HP.save_total_limit\n",
      "01/16/2020 05:13:44 - INFO - __main__ -   Deleting older checkpoint [/home/projectx/Documents/Transformers-in-NLP/fine_tuning_LM/checkpoint-36000] due to HP.save_total_limit\n",
      "01/16/2020 05:13:44 - INFO - __main__ -   Deleting older checkpoint [/home/projectx/Documents/Transformers-in-NLP/fine_tuning_LM/checkpoint-40000] due to HP.save_total_limit\n",
      "01/16/2020 05:13:44 - INFO - __main__ -   Deleting older checkpoint [/home/projectx/Documents/Transformers-in-NLP/fine_tuning_LM/checkpoint-44000] due to HP.save_total_limit\n",
      "01/16/2020 05:13:47 - INFO - __main__ -   Saving optimizer and scheduler states to /home/projectx/Documents/Transformers-in-NLP/fine_tuning_LM/checkpoint-104000\n",
      "Epoch: 100%|██████████| 8/8 [11:13:10<00:00, 5051.04s/it] \n",
      "01/16/2020 05:22:14 - INFO - __main__ -    global_step = 105328, average loss = 1.6036814562772639\n",
      "01/16/2020 05:22:14 - INFO - __main__ -   Saving model checkpoint to /home/projectx/Documents/Transformers-in-NLP/fine_tuning_LM\n",
      "01/16/2020 05:22:14 - INFO - transformers.configuration_utils -   Configuration saved in /home/projectx/Documents/Transformers-in-NLP/fine_tuning_LM/config.json\n",
      "01/16/2020 05:22:19 - INFO - transformers.modeling_utils -   Model weights saved in /home/projectx/Documents/Transformers-in-NLP/fine_tuning_LM/pytorch_model.bin\n",
      "01/16/2020 05:22:19 - INFO - transformers.configuration_utils -   loading configuration file /home/projectx/Documents/Transformers-in-NLP/fine_tuning_LM/config.json\n",
      "01/16/2020 05:22:19 - INFO - transformers.configuration_utils -   Model config {\n",
      "  \"attention_probs_dropout_prob\": 0.1,\n",
      "  \"bos_token_id\": 0,\n",
      "  \"do_sample\": false,\n",
      "  \"eos_token_ids\": 0,\n",
      "  \"finetuning_task\": null,\n",
      "  \"hidden_act\": \"gelu\",\n",
      "  \"hidden_dropout_prob\": 0.1,\n",
      "  \"hidden_size\": 768,\n",
      "  \"id2label\": {\n",
      "    \"0\": \"LABEL_0\",\n",
      "    \"1\": \"LABEL_1\"\n",
      "  },\n",
      "  \"initializer_range\": 0.02,\n",
      "  \"intermediate_size\": 3072,\n",
      "  \"is_decoder\": false,\n",
      "  \"label2id\": {\n",
      "    \"LABEL_0\": 0,\n",
      "    \"LABEL_1\": 1\n",
      "  },\n",
      "  \"layer_norm_eps\": 1e-05,\n",
      "  \"length_penalty\": 1.0,\n",
      "  \"max_length\": 20,\n",
      "  \"max_position_embeddings\": 514,\n",
      "  \"num_attention_heads\": 12,\n",
      "  \"num_beams\": 1,\n",
      "  \"num_hidden_layers\": 12,\n",
      "  \"num_labels\": 2,\n",
      "  \"num_return_sequences\": 1,\n",
      "  \"output_attentions\": false,\n",
      "  \"output_hidden_states\": false,\n",
      "  \"output_past\": true,\n",
      "  \"pad_token_id\": 0,\n",
      "  \"pruned_heads\": {},\n",
      "  \"repetition_penalty\": 1.0,\n",
      "  \"temperature\": 1.0,\n",
      "  \"top_k\": 50,\n",
      "  \"top_p\": 1.0,\n",
      "  \"torchscript\": false,\n",
      "  \"type_vocab_size\": 1,\n",
      "  \"use_bfloat16\": false,\n",
      "  \"vocab_size\": 50265\n",
      "}\n",
      "\n",
      "01/16/2020 05:22:19 - INFO - transformers.modeling_utils -   loading weights file /home/projectx/Documents/Transformers-in-NLP/fine_tuning_LM/pytorch_model.bin\n",
      "01/16/2020 05:22:30 - INFO - transformers.tokenization_utils -   Model name '/home/projectx/Documents/Transformers-in-NLP/fine_tuning_LM' not found in model shortcut name list (roberta-base, roberta-large, roberta-large-mnli, distilroberta-base, roberta-base-openai-detector, roberta-large-openai-detector). Assuming '/home/projectx/Documents/Transformers-in-NLP/fine_tuning_LM' is a path or url to a directory containing tokenizer files.\n",
      "01/16/2020 05:22:30 - INFO - transformers.tokenization_utils -   loading file /home/projectx/Documents/Transformers-in-NLP/fine_tuning_LM/vocab.json\n",
      "01/16/2020 05:22:30 - INFO - transformers.tokenization_utils -   loading file /home/projectx/Documents/Transformers-in-NLP/fine_tuning_LM/merges.txt\n",
      "01/16/2020 05:22:30 - INFO - transformers.tokenization_utils -   loading file /home/projectx/Documents/Transformers-in-NLP/fine_tuning_LM/added_tokens.json\n",
      "01/16/2020 05:22:30 - INFO - transformers.tokenization_utils -   loading file /home/projectx/Documents/Transformers-in-NLP/fine_tuning_LM/special_tokens_map.json\n",
      "01/16/2020 05:22:30 - INFO - transformers.tokenization_utils -   loading file /home/projectx/Documents/Transformers-in-NLP/fine_tuning_LM/tokenizer_config.json\n"
     ]
    }
   ],
   "source": [
    "# The actual training/eval loops\n",
    "if RoBERTa_HP.do_train:\n",
    "    \n",
    "    global_step, tr_loss = train(RoBERTa_HP, train_dataset, model, tokenizer)\n",
    "    logger.info(\" global_step = %s, average loss = %s\", global_step, tr_loss)\n",
    "    \n",
    "    # Create output directory if needed\n",
    "    if not os.path.exists(RoBERTa_HP.output_dir):\n",
    "        os.makedirs(RoBERTa_HP.output_dir)\n",
    "        \n",
    "    logger.info(\"Saving model checkpoint to %s\", RoBERTa_HP.output_dir)\n",
    "    \n",
    "    # Save a trained model, configuration and tokenizer using `save_pretrained()`.\n",
    "    # They can then be reloaded using `from_pretrained()`\n",
    "    model_to_save = (\n",
    "        model.module if hasattr(model, \"module\") else model\n",
    "    )  # Take care of distributed/parallel training\n",
    "    model_to_save.save_pretrained(RoBERTa_HP.output_dir)\n",
    "    tokenizer.save_pretrained(RoBERTa_HP.output_dir)\n",
    "\n",
    "    # Good practice: save your training arguments together with the trained model\n",
    "    torch.save(RoBERTa_HP, os.path.join(RoBERTa_HP.output_dir, \"training_args.bin\"))\n",
    "\n",
    "    # Load a trained model and vocabulary that you have fine-tuned\n",
    "    model = model_class.from_pretrained(RoBERTa_HP.output_dir)\n",
    "    tokenizer = tokenizer_class.from_pretrained(RoBERTa_HP.output_dir, do_lower_case=RoBERTa_HP.do_lower_case)\n",
    "    model.to(RoBERTa_HP.device)\n",
    "\n",
    "results = {}\n",
    "if RoBERTa_HP.do_eval:\n",
    "    checkpoints = [RoBERTa_HP.output_dir]\n",
    "    if RoBERTa_HP.eval_all_checkpoints:\n",
    "        checkpoints = list(\n",
    "            os.path.dirname(c) for c in sorted(glob.glob(RoBERTa_HP.output_dir + \"/**/\" + WEIGHTS_NAME, recursive=True))\n",
    "        )\n",
    "        logging.getLogger(\"transformers.modeling_utils\").setLevel(logging.WARN)  # Reduce logging\n",
    "    \n",
    "    logger.info(\"Evaluate the following checkpoints: %s\", checkpoints)\n",
    "    for checkpoint in checkpoints:\n",
    "        global_step = checkpoint.split(\"-\")[-1] if len(checkpoints) > 1 else \"\"\n",
    "        prefix = checkpoint.split(\"/\")[-1] if checkpoint.find(\"checkpoint\") != -1 else \"\"\n",
    "\n",
    "        model = model_class.from_pretrained(checkpoint)\n",
    "        model.to(RoBERTa_HP.device)\n",
    "        result = evaluate(RoBERTa_HP, model, tokenizer, prefix=prefix)\n",
    "        result = dict((k + \"_{}\".format(global_step), v) for k, v in result.items())\n",
    "        results.update(result)\n",
    "\n",
    "    print(results)"
   ]
  },
  {
   "cell_type": "code",
   "execution_count": null,
   "metadata": {},
   "outputs": [],
   "source": []
  },
  {
   "cell_type": "code",
   "execution_count": 27,
   "metadata": {},
   "outputs": [],
   "source": [
    "# get the model's encoder and save its weights\n",
    "encoder = get_model(model).roberta\n",
    "\n",
    "name = 'RoBERTa_encoder_IMDB'\n",
    "torch.save(encoder.state_dict(), path/'models'/f'{name}.pth')"
   ]
  },
  {
   "cell_type": "code",
   "execution_count": null,
   "metadata": {},
   "outputs": [],
   "source": []
  },
  {
   "cell_type": "code",
   "execution_count": null,
   "metadata": {},
   "outputs": [],
   "source": []
  },
  {
   "cell_type": "code",
   "execution_count": 30,
   "metadata": {},
   "outputs": [],
   "source": [
    "# model_class, tokenizer_class, config_class , LM_model= MODEL_CLASSES[model_type]\n",
    "\n",
    "# # This is the classification model\n",
    "# print(model_class.pretrained_model_archive_map.keys())\n",
    "\n",
    "# # This is the language model\n",
    "# LM_model.pretrained_model_archive_map.keys()"
   ]
  },
  {
   "cell_type": "markdown",
   "metadata": {},
   "source": [
    "### Data pre-processing\n",
    "The important thing here is that `FastAI` uses **processors** to perform repeatetive tasks when creating `DataBunch`. A set of default **processors** are performed for fastai.textlearners. For example:\n",
    "  "
   ]
  },
  {
   "cell_type": "code",
   "execution_count": 31,
   "metadata": {},
   "outputs": [],
   "source": [
    "# FastAI use various processors to perform repeatative tasks in data pipeline\n",
    "\n",
    "def _get_processor(tokenizer:Tokenizer=None, vocab:Vocab=None, chunksize:int=10000, max_vocab:int=60000,\n",
    "                   min_freq:int=2, mark_fields:bool=False, include_bos:bool=True, include_eos:bool=False):\n",
    "    return [TokenizeProcessor(tokenizer=tokenizer, chunksize=chunksize, \n",
    "                              mark_fields=mark_fields, include_bos=include_bos, include_eos=include_eos),\n",
    "            NumericalizeProcessor(vocab=vocab, max_vocab=max_vocab, min_freq=min_freq)]\n",
    "\n",
    "class NumericalizeProcessor(PreProcessor):\n",
    "    \"`PreProcessor` that numericalizes the tokens in `ds`.\"\n",
    "    def __init__(self, ds:ItemList=None, vocab:Vocab=None, max_vocab:int=60000, min_freq:int=3):\n",
    "        vocab = ifnone(vocab, ds.vocab if ds is not None else None)\n",
    "        self.vocab,self.max_vocab,self.min_freq = vocab,max_vocab,min_freq\n",
    "\n",
    "    def process_one(self,item): return np.array(self.vocab.numericalize(item), dtype=np.int64)\n",
    "    def process(self, ds):\n",
    "        if self.vocab is None: self.vocab = Vocab.create(ds.items, self.max_vocab, self.min_freq)\n",
    "        ds.vocab = self.vocab\n",
    "        super().process(ds)"
   ]
  },
  {
   "cell_type": "markdown",
   "metadata": {},
   "source": [
    "#### We need to overwrite the \"tokenizer\" and \"numericalizer\" in order to tailor the databunch creating process to the `Transformers`\n",
    "Later when creating `DataBunch`, we are going to pass in our customized processors"
   ]
  },
  {
   "cell_type": "markdown",
   "metadata": {},
   "source": [
    "## Tokenizer\n",
    "Step 1: create a new tokenizer that inherit from `fastai`'s `BaseTokenizer`"
   ]
  },
  {
   "cell_type": "code",
   "execution_count": 28,
   "metadata": {},
   "outputs": [],
   "source": [
    "class TransformersBaseTokenizer(BaseTokenizer):\n",
    "    \"\"\"Wrapper around PreTrainedTokenizer to be compatible with fast.ai\"\"\"\n",
    "    def __init__(self, pretrained_tokenizer: PreTrainedTokenizer, model_type = 'bert', **kwargs):\n",
    "        self._pretrained_tokenizer = pretrained_tokenizer\n",
    "        self.max_seq_len = pretrained_tokenizer.max_len\n",
    "        self.model_type = model_type\n",
    "\n",
    "    def __call__(self, *args, **kwargs): \n",
    "        return self\n",
    "\n",
    "    def tokenizer(self, t:str) -> List[str]:\n",
    "        \"\"\"Limits the maximum sequence length and add the spesial tokens\"\"\"\n",
    "        CLS = self._pretrained_tokenizer.cls_token\n",
    "        SEP = self._pretrained_tokenizer.sep_token\n",
    "        if self.model_type in ['roberta']:\n",
    "            tokens = self._pretrained_tokenizer.tokenize(t, add_prefix_space=True)[:self.max_seq_len - 2]\n",
    "        else:\n",
    "            tokens = self._pretrained_tokenizer.tokenize(t)[:self.max_seq_len - 2]\n",
    "        return [CLS] + tokens + [SEP]"
   ]
  },
  {
   "cell_type": "markdown",
   "metadata": {},
   "source": [
    "Step 2: Get the 'pre-trained tokenizer' from `transformer` library.(this is used for initialization of the class we created above)"
   ]
  },
  {
   "cell_type": "code",
   "execution_count": 29,
   "metadata": {},
   "outputs": [
    {
     "name": "stderr",
     "output_type": "stream",
     "text": [
      "01/16/2020 11:43:09 - INFO - filelock -   Lock 139737046067072 acquired on /home/projectx/.cache/torch/transformers/d0c5776499adc1ded22493fae699da0971c1ee4c2587111707a4d177d20257a2.ef00af9e673c7160b4d41cfda1f48c5f4cba57d5142754525572a846a1ab1b9b.lock\n",
      "01/16/2020 11:43:09 - INFO - filelock -   Lock 139737046067072 released on /home/projectx/.cache/torch/transformers/d0c5776499adc1ded22493fae699da0971c1ee4c2587111707a4d177d20257a2.ef00af9e673c7160b4d41cfda1f48c5f4cba57d5142754525572a846a1ab1b9b.lock\n",
      "01/16/2020 11:43:10 - INFO - filelock -   Lock 139737046067072 acquired on /home/projectx/.cache/torch/transformers/b35e7cd126cd4229a746b5d5c29a749e8e84438b14bcdb575950584fe33207e8.70bec105b4158ed9a1747fea67a43f5dee97855c64d62b6ec3742f4cfdb5feda.lock\n",
      "01/16/2020 11:43:10 - INFO - filelock -   Lock 139737046067072 released on /home/projectx/.cache/torch/transformers/b35e7cd126cd4229a746b5d5c29a749e8e84438b14bcdb575950584fe33207e8.70bec105b4158ed9a1747fea67a43f5dee97855c64d62b6ec3742f4cfdb5feda.lock\n",
      "01/16/2020 11:43:10 - INFO - transformers.tokenization_utils -   loading file https://s3.amazonaws.com/models.huggingface.co/bert/roberta-base-vocab.json from cache at /home/projectx/.cache/torch/transformers/d0c5776499adc1ded22493fae699da0971c1ee4c2587111707a4d177d20257a2.ef00af9e673c7160b4d41cfda1f48c5f4cba57d5142754525572a846a1ab1b9b\n",
      "01/16/2020 11:43:10 - INFO - transformers.tokenization_utils -   loading file https://s3.amazonaws.com/models.huggingface.co/bert/roberta-base-merges.txt from cache at /home/projectx/.cache/torch/transformers/b35e7cd126cd4229a746b5d5c29a749e8e84438b14bcdb575950584fe33207e8.70bec105b4158ed9a1747fea67a43f5dee97855c64d62b6ec3742f4cfdb5feda\n"
     ]
    }
   ],
   "source": [
    "# Create core tokenizer using `transformer` library\n",
    "transformer_tokenizer = tokenizer_class.from_pretrained(pretrained_model_name)"
   ]
  },
  {
   "cell_type": "markdown",
   "metadata": {},
   "source": [
    "Step 3: Create the actual **tokenizer** for our transformer of choice and put a `FastAI` wrapper on"
   ]
  },
  {
   "cell_type": "code",
   "execution_count": 30,
   "metadata": {},
   "outputs": [],
   "source": [
    "# Customize vanilla `transformers` tokenizer so that later we can put the wrapper on it\n",
    "transformer_base_tokenizer = TransformersBaseTokenizer(pretrained_tokenizer = transformer_tokenizer, model_type = model_type)\n",
    "\n",
    "# Put the FastAI wrapper on\n",
    "fastai_tokenizer = Tokenizer(tok_func = transformer_base_tokenizer, pre_rules=[], post_rules=[])"
   ]
  },
  {
   "cell_type": "markdown",
   "metadata": {},
   "source": [
    "In this implementation, be carefull about 3 things :\n",
    "\n",
    "1. As we are not using RNN, we have to limit the sequence length to the model input size.\n",
    "2. Most of the models require special tokens placed at the beginning and end of the sequences.\n",
    "3. Some models like RoBERTa require a space to start the input string. For those models, the encoding methods should be called with add_prefix_space set to True.\n",
    "\n",
    "Below, you can find the resume of each pre-process requirement for the 5 model types used in this tutorial. You can also find this information on the [HuggingFace documentation](https://huggingface.co/transformers/) in each model section.<br>\n",
    "`bert:       [CLS] + tokens + [SEP] + padding`<br>\n",
    "`roberta:    [CLS] + prefix_space + tokens + [SEP] + padding`<br>\n",
    "`distilbert: [CLS] + tokens + [SEP] + padding`<br>\n",
    "`xlm:        [CLS] + tokens + [SEP] + padding`<br>\n",
    "`xlnet:      padding + [CLS] + tokens + [SEP]`\n",
    "\n",
    "It is worth noting that we don't add padding in this part of the implementation.  As we will see later, fastai manage it automatically during the creation of the `DataBunch`."
   ]
  },
  {
   "cell_type": "markdown",
   "metadata": {},
   "source": [
    "## Numericalizer\n",
    "In `fastai` library, `NumericalizeProcessor` object takes as `bocab` argument a `Vocab` object. Here we will create a new class `TransformerVocab` that inherits from `Vocab` and overwrite `numericalize` and `textify` functions."
   ]
  },
  {
   "cell_type": "code",
   "execution_count": 31,
   "metadata": {},
   "outputs": [],
   "source": [
    "class TransformersVocab(Vocab):\n",
    "    def __init__(self, tokenizer: PreTrainedTokenizer):\n",
    "        super(TransformersVocab, self).__init__(itos = [])\n",
    "        self.tokenizer = tokenizer\n",
    "    \n",
    "    def numericalize(self, t:Collection[str]) -> List[int]:\n",
    "        \"Convert a list of tokens `t` to their ids.\"\n",
    "        return self.tokenizer.convert_tokens_to_ids(t)\n",
    "        #return self.tokenizer.encode(t)\n",
    "\n",
    "    def textify(self, nums:Collection[int], sep=' ') -> List[str]:\n",
    "        \"Convert a list of `nums` to their tokens.\"\n",
    "        nums = np.array(nums).tolist()\n",
    "        return sep.join(self.tokenizer.convert_ids_to_tokens(nums)) if sep is not None else self.tokenizer.convert_ids_to_tokens(nums)"
   ]
  },
  {
   "cell_type": "markdown",
   "metadata": {},
   "source": [
    "### Customize numericalize processor\n",
    "Notice taht we need to pass the `include_bs=False` and `include_eos=False` options. This is because `fastiai` adds its own special tokens by default which interferes with the `[CLS]` and `[SEP]` tokens that are required for RoBERTa"
   ]
  },
  {
   "cell_type": "code",
   "execution_count": 32,
   "metadata": {},
   "outputs": [],
   "source": [
    "# use RoBERTa tokenizer to initialize the `TransformersVocab`\n",
    "transformer_vocab = TransformersVocab(tokenizer=transformer_tokenizer)\n",
    "\n",
    "# create a customized numericalizor using vocab just created\n",
    "numericalize_processor = NumericalizeProcessor(vocab=transformer_vocab)\n"
   ]
  },
  {
   "cell_type": "markdown",
   "metadata": {},
   "source": [
    "## Put together our customized processor"
   ]
  },
  {
   "cell_type": "code",
   "execution_count": 33,
   "metadata": {},
   "outputs": [],
   "source": [
    "# wrapper function over the tokenizer we created above\n",
    "tokenize_processor = TokenizeProcessor(tokenizer=fastai_tokenizer, include_bos=False, include_eos=False)\n"
   ]
  },
  {
   "cell_type": "code",
   "execution_count": 34,
   "metadata": {},
   "outputs": [],
   "source": [
    "# finally put the two processors in a list for later use\n",
    "transformer_processor = [OpenFileProcessor(),tokenize_processor, numericalize_processor]"
   ]
  },
  {
   "cell_type": "markdown",
   "metadata": {},
   "source": [
    "## New our language model is more IMDb-like"
   ]
  },
  {
   "cell_type": "markdown",
   "metadata": {},
   "source": [
    "## Get the encoder of the language model and save it's encoder"
   ]
  },
  {
   "cell_type": "code",
   "execution_count": 35,
   "metadata": {},
   "outputs": [],
   "source": [
    "# # get the model's encoder and save its weights\n",
    "# encoder = get_model(model).roberta\n",
    "\n",
    "# name = 'RoBERTa_encoder_IMDB'\n",
    "# torch.save(encoder.state_dict(), path/'models'/f'{name}.pth')"
   ]
  },
  {
   "cell_type": "markdown",
   "metadata": {},
   "source": [
    "# Create DataBunch for classification"
   ]
  },
  {
   "cell_type": "code",
   "execution_count": 36,
   "metadata": {},
   "outputs": [],
   "source": [
    "# we can play around with the batch_size as long as the GPU can take it\n",
    "\n",
    "pad_first = bool(model_type in ['xlnet'])\n",
    "pad_idx = transformer_tokenizer.pad_token_id\n",
    "\n",
    "bs = 4\n",
    "data_clas = (TextList.from_folder(path, processor=transformer_processor) # specify the path\n",
    "           .filter_by_folder(include=['train','test'])    # exclude other folders\n",
    "           .split_by_folder(valid='test')                 # split by train and valid folder (that only keeps 'train' and 'test' so no need to filter)\n",
    "           .label_from_folder(classes=['neg', 'pos'])     # label them all with their folders\n",
    "           .databunch(bs=bs, pad_first=pad_first, pad_idx=pad_idx))                             # convert to databunch for the learner later"
   ]
  },
  {
   "cell_type": "code",
   "execution_count": 37,
   "metadata": {},
   "outputs": [
    {
     "name": "stdout",
     "output_type": "stream",
     "text": [
      "[CLS] token : <s>\n",
      "[SEP] token : </s>\n",
      "[PAD] token : <pad>\n"
     ]
    },
    {
     "data": {
      "text/html": [
       "<table border=\"1\" class=\"dataframe\">\n",
       "  <thead>\n",
       "    <tr style=\"text-align: right;\">\n",
       "      <th>text</th>\n",
       "      <th>target</th>\n",
       "    </tr>\n",
       "  </thead>\n",
       "  <tbody>\n",
       "    <tr>\n",
       "      <td>&lt;s&gt; ĠG rieving Ġcouple Ġmove Ġto Ġa Ġcabin Ġon Ġa Ġmountain Ġafter Ġthe Ġloss Ġof Ġtheir Ġdaughter , Ġdiscovering Ġthat Ġthere Ġmay Ġbe Ġghosts Ġhaunting Ġthe Ġplace , Ġrestless Ġspirits Ġof Ġpast Ġoccupants Ġwho Ġcommitted Ġsuicide . ĠJulie ĠPy ke ( C her i ĠChristian ) bl ames Ġhusband ĠAllen ( Greg ĠThompson ) for Ġthe Ġhorrible Ġdeath Ġof Ġtheir Ġdaughter Ġdue Ġto Ġleaving Ġthe Ġdoor Ġunlocked Ġand Ġthe Ġmarriage</td>\n",
       "      <td>neg</td>\n",
       "    </tr>\n",
       "    <tr>\n",
       "      <td>&lt;s&gt; ĠWhat Ġof ĠDom ino Ġdid ĠI Ġhate Ġover Ġeverything , Ġand ĠI Ġmean Ġeverything , Ġelse ? ĠPerhaps Ġit Ġwas Ġthe Ġoverall Ġglor ification Ġof Ġbeing Ġa Ġbounty Ġhunter ; Ġmaybe Ġit Ġwas Ġthe Ġsexism Ġmas quer ading Ġas Ġan Ġinvolving Ġand Ġinteresting Ġstudy Ġof Ġa Ġhard Ġbod ied Ġfemale Ġlead Ġcharacter ; Ġmaybe Ġit Ġwas Ġthe Ġmere Ġlook Ġof Ġthe Ġfilm Ġwith Ġits Ġbizarre Ġyellow Ġglow Ġand Ġdistorted</td>\n",
       "      <td>neg</td>\n",
       "    </tr>\n",
       "    <tr>\n",
       "      <td>&lt;s&gt; ĠDeliver ance Ġis ĠJohn ĠBo orman 's Ġ1972 Ġhorror / th r iller Ġmovie Ġabout Ġa Ġgroup Ġof Ġfour ĠAtlanta Ġbusinessmen Ġ( B urt ĠReynolds , ĠJon ĠVo ight , ĠNed ĠBeat ty Ġand ĠRonnie ĠCox ), Ġthat Ġundertake Ġa Ġcanoe Ġtrip Ġdown Ġthe ĠCah ul aw as see ĠRiver Ġbefore Ġthe Ġriver Ġis Ġdam med . ĠAlong Ġthe Ġway , Ġa Ġraft Ġ( no Ġpun Ġintended ) Ġof</td>\n",
       "      <td>pos</td>\n",
       "    </tr>\n",
       "    <tr>\n",
       "      <td>&lt;s&gt; ĠThe Ġemotional Ġpowers Ġand Ġcharacters Ġof ĠDomin ick Ġand ĠEugene Ġare Ġthe Ġthings Ġthat ĠHollywood Ġdoesn 't Ġmake Ġanymore . ĠThis Ġis Ġone Ġof Ġthe Ġmost Ġemotional , Ġsensitive , Ġand Ġheart - felt Ġmovies Ġthat ĠI Ġhave Ġever Ġseen ! ĠRoy ĠLi otta , ĠTom ĠH ul ce , Ġand Ġsupporting Ġactress ĠJamie ĠLee ĠCurtis , Ġdeliver ĠOscar ĠWinning Ġcaliber Ġperformances ! ĠThere Ġare Ġnot Ġenough Ġwords Ġto</td>\n",
       "      <td>pos</td>\n",
       "    </tr>\n",
       "  </tbody>\n",
       "</table>"
      ],
      "text/plain": [
       "<IPython.core.display.HTML object>"
      ]
     },
     "metadata": {},
     "output_type": "display_data"
    }
   ],
   "source": [
    "print('[CLS] token :', transformer_tokenizer.cls_token)\n",
    "print('[SEP] token :', transformer_tokenizer.sep_token)\n",
    "print('[PAD] token :', transformer_tokenizer.pad_token)\n",
    "data_clas.show_batch()"
   ]
  },
  {
   "cell_type": "markdown",
   "metadata": {},
   "source": [
    "Check numericalization"
   ]
  },
  {
   "cell_type": "code",
   "execution_count": 38,
   "metadata": {},
   "outputs": [
    {
     "name": "stdout",
     "output_type": "stream",
     "text": [
      "[CLS] id : 0\n",
      "[SEP] id : 2\n",
      "[PAD] id : 1\n",
      "Batch shape :  torch.Size([4, 512])\n",
      "(tensor([[    0, 22163,   953,  ...,    31,  2741,     2],\n",
      "        [    0,   287,   444,  ...,  2076,  1302,     2],\n",
      "        [    0,   286,   167,  ...,     7,  6136,     2],\n",
      "        [    0,    22,   771,  ...,     6,    42,     2]]), tensor([0, 0, 0, 1]))\n"
     ]
    }
   ],
   "source": [
    "print('[CLS] id :', transformer_tokenizer.cls_token_id)\n",
    "print('[SEP] id :', transformer_tokenizer.sep_token_id)\n",
    "print('[PAD] id :', pad_idx)\n",
    "test_one_batch = data_clas.one_batch()\n",
    "print('Batch shape : ',test_one_batch[0].shape)\n",
    "print(test_one_batch)"
   ]
  },
  {
   "cell_type": "code",
   "execution_count": 39,
   "metadata": {},
   "outputs": [],
   "source": [
    "# defining our model architecture \n",
    "class CustomTransformerModel(nn.Module):\n",
    "    def __init__(self, transformer_model: PreTrainedModel):\n",
    "        super(CustomTransformerModel,self).__init__()\n",
    "        self.transformer = transformer_model\n",
    "        \n",
    "    def forward(self, input_ids, attention_mask=None):\n",
    "        \n",
    "        #attention_mask = (input_ids!=1).type(input_ids.type()) # Test attention_mask for RoBERTa\n",
    "        \n",
    "        logits = self.transformer(input_ids,\n",
    "                                attention_mask = attention_mask)[0]   \n",
    "        return logits"
   ]
  },
  {
   "cell_type": "code",
   "execution_count": 40,
   "metadata": {},
   "outputs": [
    {
     "name": "stderr",
     "output_type": "stream",
     "text": [
      "01/16/2020 11:44:40 - INFO - filelock -   Lock 139736615292040 acquired on /home/projectx/.cache/torch/transformers/e1a2a406b5a05063c31f4dfdee7608986ba7c6393f7f79db5e69dcd197208534.9dad9043216064080cf9dd3711c53c0f11fe2b09313eaa66931057b4bdcaf068.lock\n",
      "01/16/2020 11:44:40 - INFO - filelock -   Lock 139736615292040 released on /home/projectx/.cache/torch/transformers/e1a2a406b5a05063c31f4dfdee7608986ba7c6393f7f79db5e69dcd197208534.9dad9043216064080cf9dd3711c53c0f11fe2b09313eaa66931057b4bdcaf068.lock\n",
      "01/16/2020 11:44:40 - INFO - transformers.configuration_utils -   loading configuration file https://s3.amazonaws.com/models.huggingface.co/bert/roberta-base-config.json from cache at /home/projectx/.cache/torch/transformers/e1a2a406b5a05063c31f4dfdee7608986ba7c6393f7f79db5e69dcd197208534.9dad9043216064080cf9dd3711c53c0f11fe2b09313eaa66931057b4bdcaf068\n",
      "01/16/2020 11:44:40 - INFO - transformers.configuration_utils -   Model config {\n",
      "  \"attention_probs_dropout_prob\": 0.1,\n",
      "  \"bos_token_id\": 0,\n",
      "  \"do_sample\": false,\n",
      "  \"eos_token_ids\": 0,\n",
      "  \"finetuning_task\": null,\n",
      "  \"hidden_act\": \"gelu\",\n",
      "  \"hidden_dropout_prob\": 0.1,\n",
      "  \"hidden_size\": 768,\n",
      "  \"id2label\": {\n",
      "    \"0\": \"LABEL_0\",\n",
      "    \"1\": \"LABEL_1\"\n",
      "  },\n",
      "  \"initializer_range\": 0.02,\n",
      "  \"intermediate_size\": 3072,\n",
      "  \"is_decoder\": false,\n",
      "  \"label2id\": {\n",
      "    \"LABEL_0\": 0,\n",
      "    \"LABEL_1\": 1\n",
      "  },\n",
      "  \"layer_norm_eps\": 1e-05,\n",
      "  \"length_penalty\": 1.0,\n",
      "  \"max_length\": 20,\n",
      "  \"max_position_embeddings\": 514,\n",
      "  \"num_attention_heads\": 12,\n",
      "  \"num_beams\": 1,\n",
      "  \"num_hidden_layers\": 12,\n",
      "  \"num_labels\": 2,\n",
      "  \"num_return_sequences\": 1,\n",
      "  \"output_attentions\": false,\n",
      "  \"output_hidden_states\": false,\n",
      "  \"output_past\": true,\n",
      "  \"pad_token_id\": 0,\n",
      "  \"pruned_heads\": {},\n",
      "  \"repetition_penalty\": 1.0,\n",
      "  \"temperature\": 1.0,\n",
      "  \"top_k\": 50,\n",
      "  \"top_p\": 1.0,\n",
      "  \"torchscript\": false,\n",
      "  \"type_vocab_size\": 1,\n",
      "  \"use_bfloat16\": false,\n",
      "  \"vocab_size\": 50265\n",
      "}\n",
      "\n"
     ]
    }
   ],
   "source": [
    "config = config_class.from_pretrained(pretrained_model_name)\n",
    "config.num_labels = 2\n",
    "config.use_bfloat16 = use_fp16"
   ]
  },
  {
   "cell_type": "code",
   "execution_count": 41,
   "metadata": {},
   "outputs": [
    {
     "name": "stderr",
     "output_type": "stream",
     "text": [
      "01/16/2020 11:44:41 - INFO - filelock -   Lock 139736619040216 acquired on /home/projectx/.cache/torch/transformers/228756ed15b6d200d7cb45aaef08c087e2706f54cb912863d2efe07c89584eb7.49b88ba7ec2c26a7558dda98ca3884c3b80fa31cf43a1b1f23aef3ff81ba344e.lock\n",
      "01/16/2020 11:44:41 - INFO - filelock -   Lock 139736619040216 released on /home/projectx/.cache/torch/transformers/228756ed15b6d200d7cb45aaef08c087e2706f54cb912863d2efe07c89584eb7.49b88ba7ec2c26a7558dda98ca3884c3b80fa31cf43a1b1f23aef3ff81ba344e.lock\n",
      "01/16/2020 11:44:41 - INFO - transformers.modeling_utils -   loading weights file https://s3.amazonaws.com/models.huggingface.co/bert/roberta-base-pytorch_model.bin from cache at /home/projectx/.cache/torch/transformers/228756ed15b6d200d7cb45aaef08c087e2706f54cb912863d2efe07c89584eb7.49b88ba7ec2c26a7558dda98ca3884c3b80fa31cf43a1b1f23aef3ff81ba344e\n",
      "01/16/2020 11:44:52 - INFO - transformers.modeling_utils -   Weights of RobertaForSequenceClassification not initialized from pretrained model: ['classifier.dense.weight', 'classifier.dense.bias', 'classifier.out_proj.weight', 'classifier.out_proj.bias']\n",
      "01/16/2020 11:44:52 - INFO - transformers.modeling_utils -   Weights from pretrained model not used in RobertaForSequenceClassification: ['lm_head.bias', 'lm_head.dense.weight', 'lm_head.dense.bias', 'lm_head.layer_norm.weight', 'lm_head.layer_norm.bias', 'lm_head.decoder.weight']\n"
     ]
    }
   ],
   "source": [
    "model_class = MODEL_CLASSES['roberta'][0]\n",
    "\n",
    "transformer_model = model_class.from_pretrained(pretrained_model_name, config = config)\n",
    "\n",
    "\n",
    "custom_transformer_model = CustomTransformerModel(transformer_model = transformer_model)"
   ]
  },
  {
   "cell_type": "markdown",
   "metadata": {},
   "source": [
    "## Load the encoder's pre-trained weights from the language model training"
   ]
  },
  {
   "cell_type": "code",
   "execution_count": 42,
   "metadata": {},
   "outputs": [
    {
     "data": {
      "text/plain": [
       "<All keys matched successfully>"
      ]
     },
     "execution_count": 42,
     "metadata": {},
     "output_type": "execute_result"
    }
   ],
   "source": [
    "# loading the saved weights \n",
    "# This would only change the encoder weights\n",
    "name = 'RoBERTa_encoder_IMDB'\n",
    "custom_transformer_model.transformer.roberta.load_state_dict(torch.load(path/'models'/f'{name}.pth', map_location=None))"
   ]
  },
  {
   "cell_type": "code",
   "execution_count": 43,
   "metadata": {},
   "outputs": [],
   "source": [
    "from fastai.callbacks import *\n",
    "from transformers import AdamW\n",
    "from functools import partial\n",
    "\n",
    "CustomAdamW = partial(AdamW, correct_bias=False)\n",
    "\n",
    "learner = Learner(data_clas, \n",
    "                  custom_transformer_model, \n",
    "                  opt_func = CustomAdamW, \n",
    "                  metrics=[accuracy, error_rate])\n",
    "\n",
    "# Show graph of learner stats and metrics after each epoch.\n",
    "learner.callbacks.append(ShowGraph(learner))\n",
    "\n",
    "# Put learn in FP16 precision mode. --> Seems to not working\n",
    "if use_fp16: learner = learner.to_fp16()"
   ]
  },
  {
   "cell_type": "code",
   "execution_count": 44,
   "metadata": {},
   "outputs": [],
   "source": [
    "# For roberta-base\n",
    "list_layers = [learner.model.transformer.roberta.embeddings,\n",
    "              learner.model.transformer.roberta.encoder.layer[0],\n",
    "              learner.model.transformer.roberta.encoder.layer[1],\n",
    "              learner.model.transformer.roberta.encoder.layer[2],\n",
    "              learner.model.transformer.roberta.encoder.layer[3],\n",
    "              learner.model.transformer.roberta.encoder.layer[4],\n",
    "              learner.model.transformer.roberta.encoder.layer[5],\n",
    "              learner.model.transformer.roberta.encoder.layer[6],\n",
    "              learner.model.transformer.roberta.encoder.layer[7],\n",
    "              learner.model.transformer.roberta.encoder.layer[8],\n",
    "              learner.model.transformer.roberta.encoder.layer[9],\n",
    "              learner.model.transformer.roberta.encoder.layer[10],\n",
    "              learner.model.transformer.roberta.encoder.layer[11],\n",
    "              learner.model.transformer.roberta.pooler]"
   ]
  },
  {
   "cell_type": "code",
   "execution_count": 45,
   "metadata": {},
   "outputs": [
    {
     "name": "stdout",
     "output_type": "stream",
     "text": [
      "Learner split in 14 groups\n",
      "[Sequential(\n",
      "  (0): Embedding(50265, 768, padding_idx=1)\n",
      "  (1): Embedding(514, 768, padding_idx=1)\n",
      "  (2): Embedding(1, 768)\n",
      "  (3): LayerNorm((768,), eps=1e-05, elementwise_affine=True)\n",
      "  (4): Dropout(p=0.1, inplace=False)\n",
      "), Sequential(\n",
      "  (0): Linear(in_features=768, out_features=768, bias=True)\n",
      "  (1): Linear(in_features=768, out_features=768, bias=True)\n",
      "  (2): Linear(in_features=768, out_features=768, bias=True)\n",
      "  (3): Dropout(p=0.1, inplace=False)\n",
      "  (4): Linear(in_features=768, out_features=768, bias=True)\n",
      "  (5): LayerNorm((768,), eps=1e-05, elementwise_affine=True)\n",
      "  (6): Dropout(p=0.1, inplace=False)\n",
      "  (7): Linear(in_features=768, out_features=3072, bias=True)\n",
      "  (8): Linear(in_features=3072, out_features=768, bias=True)\n",
      "  (9): LayerNorm((768,), eps=1e-05, elementwise_affine=True)\n",
      "  (10): Dropout(p=0.1, inplace=False)\n",
      "), Sequential(\n",
      "  (0): Linear(in_features=768, out_features=768, bias=True)\n",
      "  (1): Linear(in_features=768, out_features=768, bias=True)\n",
      "  (2): Linear(in_features=768, out_features=768, bias=True)\n",
      "  (3): Dropout(p=0.1, inplace=False)\n",
      "  (4): Linear(in_features=768, out_features=768, bias=True)\n",
      "  (5): LayerNorm((768,), eps=1e-05, elementwise_affine=True)\n",
      "  (6): Dropout(p=0.1, inplace=False)\n",
      "  (7): Linear(in_features=768, out_features=3072, bias=True)\n",
      "  (8): Linear(in_features=3072, out_features=768, bias=True)\n",
      "  (9): LayerNorm((768,), eps=1e-05, elementwise_affine=True)\n",
      "  (10): Dropout(p=0.1, inplace=False)\n",
      "), Sequential(\n",
      "  (0): Linear(in_features=768, out_features=768, bias=True)\n",
      "  (1): Linear(in_features=768, out_features=768, bias=True)\n",
      "  (2): Linear(in_features=768, out_features=768, bias=True)\n",
      "  (3): Dropout(p=0.1, inplace=False)\n",
      "  (4): Linear(in_features=768, out_features=768, bias=True)\n",
      "  (5): LayerNorm((768,), eps=1e-05, elementwise_affine=True)\n",
      "  (6): Dropout(p=0.1, inplace=False)\n",
      "  (7): Linear(in_features=768, out_features=3072, bias=True)\n",
      "  (8): Linear(in_features=3072, out_features=768, bias=True)\n",
      "  (9): LayerNorm((768,), eps=1e-05, elementwise_affine=True)\n",
      "  (10): Dropout(p=0.1, inplace=False)\n",
      "), Sequential(\n",
      "  (0): Linear(in_features=768, out_features=768, bias=True)\n",
      "  (1): Linear(in_features=768, out_features=768, bias=True)\n",
      "  (2): Linear(in_features=768, out_features=768, bias=True)\n",
      "  (3): Dropout(p=0.1, inplace=False)\n",
      "  (4): Linear(in_features=768, out_features=768, bias=True)\n",
      "  (5): LayerNorm((768,), eps=1e-05, elementwise_affine=True)\n",
      "  (6): Dropout(p=0.1, inplace=False)\n",
      "  (7): Linear(in_features=768, out_features=3072, bias=True)\n",
      "  (8): Linear(in_features=3072, out_features=768, bias=True)\n",
      "  (9): LayerNorm((768,), eps=1e-05, elementwise_affine=True)\n",
      "  (10): Dropout(p=0.1, inplace=False)\n",
      "), Sequential(\n",
      "  (0): Linear(in_features=768, out_features=768, bias=True)\n",
      "  (1): Linear(in_features=768, out_features=768, bias=True)\n",
      "  (2): Linear(in_features=768, out_features=768, bias=True)\n",
      "  (3): Dropout(p=0.1, inplace=False)\n",
      "  (4): Linear(in_features=768, out_features=768, bias=True)\n",
      "  (5): LayerNorm((768,), eps=1e-05, elementwise_affine=True)\n",
      "  (6): Dropout(p=0.1, inplace=False)\n",
      "  (7): Linear(in_features=768, out_features=3072, bias=True)\n",
      "  (8): Linear(in_features=3072, out_features=768, bias=True)\n",
      "  (9): LayerNorm((768,), eps=1e-05, elementwise_affine=True)\n",
      "  (10): Dropout(p=0.1, inplace=False)\n",
      "), Sequential(\n",
      "  (0): Linear(in_features=768, out_features=768, bias=True)\n",
      "  (1): Linear(in_features=768, out_features=768, bias=True)\n",
      "  (2): Linear(in_features=768, out_features=768, bias=True)\n",
      "  (3): Dropout(p=0.1, inplace=False)\n",
      "  (4): Linear(in_features=768, out_features=768, bias=True)\n",
      "  (5): LayerNorm((768,), eps=1e-05, elementwise_affine=True)\n",
      "  (6): Dropout(p=0.1, inplace=False)\n",
      "  (7): Linear(in_features=768, out_features=3072, bias=True)\n",
      "  (8): Linear(in_features=3072, out_features=768, bias=True)\n",
      "  (9): LayerNorm((768,), eps=1e-05, elementwise_affine=True)\n",
      "  (10): Dropout(p=0.1, inplace=False)\n",
      "), Sequential(\n",
      "  (0): Linear(in_features=768, out_features=768, bias=True)\n",
      "  (1): Linear(in_features=768, out_features=768, bias=True)\n",
      "  (2): Linear(in_features=768, out_features=768, bias=True)\n",
      "  (3): Dropout(p=0.1, inplace=False)\n",
      "  (4): Linear(in_features=768, out_features=768, bias=True)\n",
      "  (5): LayerNorm((768,), eps=1e-05, elementwise_affine=True)\n",
      "  (6): Dropout(p=0.1, inplace=False)\n",
      "  (7): Linear(in_features=768, out_features=3072, bias=True)\n",
      "  (8): Linear(in_features=3072, out_features=768, bias=True)\n",
      "  (9): LayerNorm((768,), eps=1e-05, elementwise_affine=True)\n",
      "  (10): Dropout(p=0.1, inplace=False)\n",
      "), Sequential(\n",
      "  (0): Linear(in_features=768, out_features=768, bias=True)\n",
      "  (1): Linear(in_features=768, out_features=768, bias=True)\n",
      "  (2): Linear(in_features=768, out_features=768, bias=True)\n",
      "  (3): Dropout(p=0.1, inplace=False)\n",
      "  (4): Linear(in_features=768, out_features=768, bias=True)\n",
      "  (5): LayerNorm((768,), eps=1e-05, elementwise_affine=True)\n",
      "  (6): Dropout(p=0.1, inplace=False)\n",
      "  (7): Linear(in_features=768, out_features=3072, bias=True)\n",
      "  (8): Linear(in_features=3072, out_features=768, bias=True)\n",
      "  (9): LayerNorm((768,), eps=1e-05, elementwise_affine=True)\n",
      "  (10): Dropout(p=0.1, inplace=False)\n",
      "), Sequential(\n",
      "  (0): Linear(in_features=768, out_features=768, bias=True)\n",
      "  (1): Linear(in_features=768, out_features=768, bias=True)\n",
      "  (2): Linear(in_features=768, out_features=768, bias=True)\n",
      "  (3): Dropout(p=0.1, inplace=False)\n",
      "  (4): Linear(in_features=768, out_features=768, bias=True)\n",
      "  (5): LayerNorm((768,), eps=1e-05, elementwise_affine=True)\n",
      "  (6): Dropout(p=0.1, inplace=False)\n",
      "  (7): Linear(in_features=768, out_features=3072, bias=True)\n",
      "  (8): Linear(in_features=3072, out_features=768, bias=True)\n",
      "  (9): LayerNorm((768,), eps=1e-05, elementwise_affine=True)\n",
      "  (10): Dropout(p=0.1, inplace=False)\n",
      "), Sequential(\n",
      "  (0): Linear(in_features=768, out_features=768, bias=True)\n",
      "  (1): Linear(in_features=768, out_features=768, bias=True)\n",
      "  (2): Linear(in_features=768, out_features=768, bias=True)\n",
      "  (3): Dropout(p=0.1, inplace=False)\n",
      "  (4): Linear(in_features=768, out_features=768, bias=True)\n",
      "  (5): LayerNorm((768,), eps=1e-05, elementwise_affine=True)\n",
      "  (6): Dropout(p=0.1, inplace=False)\n",
      "  (7): Linear(in_features=768, out_features=3072, bias=True)\n",
      "  (8): Linear(in_features=3072, out_features=768, bias=True)\n",
      "  (9): LayerNorm((768,), eps=1e-05, elementwise_affine=True)\n",
      "  (10): Dropout(p=0.1, inplace=False)\n",
      "), Sequential(\n",
      "  (0): Linear(in_features=768, out_features=768, bias=True)\n",
      "  (1): Linear(in_features=768, out_features=768, bias=True)\n",
      "  (2): Linear(in_features=768, out_features=768, bias=True)\n",
      "  (3): Dropout(p=0.1, inplace=False)\n",
      "  (4): Linear(in_features=768, out_features=768, bias=True)\n",
      "  (5): LayerNorm((768,), eps=1e-05, elementwise_affine=True)\n",
      "  (6): Dropout(p=0.1, inplace=False)\n",
      "  (7): Linear(in_features=768, out_features=3072, bias=True)\n",
      "  (8): Linear(in_features=3072, out_features=768, bias=True)\n",
      "  (9): LayerNorm((768,), eps=1e-05, elementwise_affine=True)\n",
      "  (10): Dropout(p=0.1, inplace=False)\n",
      "), Sequential(\n",
      "  (0): Linear(in_features=768, out_features=768, bias=True)\n",
      "  (1): Linear(in_features=768, out_features=768, bias=True)\n",
      "  (2): Linear(in_features=768, out_features=768, bias=True)\n",
      "  (3): Dropout(p=0.1, inplace=False)\n",
      "  (4): Linear(in_features=768, out_features=768, bias=True)\n",
      "  (5): LayerNorm((768,), eps=1e-05, elementwise_affine=True)\n",
      "  (6): Dropout(p=0.1, inplace=False)\n",
      "  (7): Linear(in_features=768, out_features=3072, bias=True)\n",
      "  (8): Linear(in_features=3072, out_features=768, bias=True)\n",
      "  (9): LayerNorm((768,), eps=1e-05, elementwise_affine=True)\n",
      "  (10): Dropout(p=0.1, inplace=False)\n",
      "), Sequential(\n",
      "  (0): Linear(in_features=768, out_features=768, bias=True)\n",
      "  (1): Tanh()\n",
      "  (2): Linear(in_features=768, out_features=768, bias=True)\n",
      "  (3): Dropout(p=0.1, inplace=False)\n",
      "  (4): Linear(in_features=768, out_features=2, bias=True)\n",
      ")]\n"
     ]
    }
   ],
   "source": [
    "learner.split(list_layers)\n",
    "num_groups = len(learner.layer_groups)\n",
    "print('Learner split in',num_groups,'groups')\n",
    "print(learner.layer_groups)"
   ]
  },
  {
   "cell_type": "code",
   "execution_count": null,
   "metadata": {},
   "outputs": [],
   "source": []
  },
  {
   "cell_type": "code",
   "execution_count": 50,
   "metadata": {},
   "outputs": [],
   "source": [
    "learner.save('untrained_classifier_with_finetuned_LM_head')"
   ]
  },
  {
   "cell_type": "code",
   "execution_count": 30,
   "metadata": {},
   "outputs": [],
   "source": [
    "# learner.load('untrained_classifier')"
   ]
  },
  {
   "cell_type": "code",
   "execution_count": 46,
   "metadata": {},
   "outputs": [
    {
     "data": {
      "text/html": [],
      "text/plain": [
       "<IPython.core.display.HTML object>"
      ]
     },
     "metadata": {},
     "output_type": "display_data"
    },
    {
     "name": "stdout",
     "output_type": "stream",
     "text": [
      "LR Finder is complete, type {learner_name}.recorder.plot() to see the graph.\n"
     ]
    }
   ],
   "source": [
    "learner.freeze()\n",
    "learner.lr_find()"
   ]
  },
  {
   "cell_type": "code",
   "execution_count": 47,
   "metadata": {},
   "outputs": [
    {
     "name": "stdout",
     "output_type": "stream",
     "text": [
      "Min numerical gradient: 1.20E-03\n",
      "Min loss divided by 10: 1.91E-05\n"
     ]
    },
    {
     "data": {
      "image/png": "[encoded data removed]",
      "text/plain": [
       "<Figure size 432x288 with 1 Axes>"
      ]
     },
     "metadata": {
      "needs_background": "light"
     },
     "output_type": "display_data"
    }
   ],
   "source": [
    "learner.recorder.plot(suggestion=True)"
   ]
  },
  {
   "cell_type": "code",
   "execution_count": 48,
   "metadata": {},
   "outputs": [
    {
     "data": {
      "text/html": [
       "<table border=\"1\" class=\"dataframe\">\n",
       "  <thead>\n",
       "    <tr style=\"text-align: left;\">\n",
       "      <th>epoch</th>\n",
       "      <th>train_loss</th>\n",
       "      <th>valid_loss</th>\n",
       "      <th>accuracy</th>\n",
       "      <th>error_rate</th>\n",
       "      <th>time</th>\n",
       "    </tr>\n",
       "  </thead>\n",
       "  <tbody>\n",
       "    <tr>\n",
       "      <td>0</td>\n",
       "      <td>0.369633</td>\n",
       "      <td>0.362951</td>\n",
       "      <td>0.872080</td>\n",
       "      <td>0.127920</td>\n",
       "      <td>10:42</td>\n",
       "    </tr>\n",
       "    <tr>\n",
       "      <td>1</td>\n",
       "      <td>0.341257</td>\n",
       "      <td>0.261161</td>\n",
       "      <td>0.901600</td>\n",
       "      <td>0.098400</td>\n",
       "      <td>10:44</td>\n",
       "    </tr>\n",
       "    <tr>\n",
       "      <td>2</td>\n",
       "      <td>0.323350</td>\n",
       "      <td>0.238468</td>\n",
       "      <td>0.909120</td>\n",
       "      <td>0.090880</td>\n",
       "      <td>10:44</td>\n",
       "    </tr>\n",
       "    <tr>\n",
       "      <td>3</td>\n",
       "      <td>0.268800</td>\n",
       "      <td>0.231686</td>\n",
       "      <td>0.911440</td>\n",
       "      <td>0.088560</td>\n",
       "      <td>10:46</td>\n",
       "    </tr>\n",
       "    <tr>\n",
       "      <td>4</td>\n",
       "      <td>0.269105</td>\n",
       "      <td>0.228750</td>\n",
       "      <td>0.913200</td>\n",
       "      <td>0.086800</td>\n",
       "      <td>10:47</td>\n",
       "    </tr>\n",
       "  </tbody>\n",
       "</table>"
      ],
      "text/plain": [
       "<IPython.core.display.HTML object>"
      ]
     },
     "metadata": {},
     "output_type": "display_data"
    },
    {
     "data": {
      "image/png": "[encoded data removed]",
      "text/plain": [
       "<Figure size 432x288 with 1 Axes>"
      ]
     },
     "metadata": {},
     "output_type": "display_data"
    }
   ],
   "source": [
    "learner.fit_one_cycle(5, 1e-4 ,moms=(0.8,0.7))"
   ]
  },
  {
   "cell_type": "code",
   "execution_count": 49,
   "metadata": {},
   "outputs": [
    {
     "data": {
      "text/html": [],
      "text/plain": [
       "<IPython.core.display.HTML object>"
      ]
     },
     "metadata": {},
     "output_type": "display_data"
    },
    {
     "name": "stdout",
     "output_type": "stream",
     "text": [
      "LR Finder is complete, type {learner_name}.recorder.plot() to see the graph.\n"
     ]
    },
    {
     "data": {
      "image/png": "[encoded data removed]",
      "text/plain": [
       "<Figure size 432x288 with 1 Axes>"
      ]
     },
     "metadata": {
      "needs_background": "light"
     },
     "output_type": "display_data"
    }
   ],
   "source": [
    "learner.freeze_to(-3)\n",
    "learner.lr_find()\n",
    "learner.recorder.plot(suggestion=False)"
   ]
  },
  {
   "cell_type": "code",
   "execution_count": 50,
   "metadata": {},
   "outputs": [
    {
     "data": {
      "text/html": [
       "<table border=\"1\" class=\"dataframe\">\n",
       "  <thead>\n",
       "    <tr style=\"text-align: left;\">\n",
       "      <th>epoch</th>\n",
       "      <th>train_loss</th>\n",
       "      <th>valid_loss</th>\n",
       "      <th>accuracy</th>\n",
       "      <th>error_rate</th>\n",
       "      <th>time</th>\n",
       "    </tr>\n",
       "  </thead>\n",
       "  <tbody>\n",
       "    <tr>\n",
       "      <td>0</td>\n",
       "      <td>0.211084</td>\n",
       "      <td>0.165880</td>\n",
       "      <td>0.938400</td>\n",
       "      <td>0.061600</td>\n",
       "      <td>12:25</td>\n",
       "    </tr>\n",
       "    <tr>\n",
       "      <td>1</td>\n",
       "      <td>0.167595</td>\n",
       "      <td>0.142341</td>\n",
       "      <td>0.948840</td>\n",
       "      <td>0.051160</td>\n",
       "      <td>12:27</td>\n",
       "    </tr>\n",
       "    <tr>\n",
       "      <td>2</td>\n",
       "      <td>0.169181</td>\n",
       "      <td>0.139986</td>\n",
       "      <td>0.950480</td>\n",
       "      <td>0.049520</td>\n",
       "      <td>12:26</td>\n",
       "    </tr>\n",
       "    <tr>\n",
       "      <td>3</td>\n",
       "      <td>0.227645</td>\n",
       "      <td>0.130792</td>\n",
       "      <td>0.953080</td>\n",
       "      <td>0.046920</td>\n",
       "      <td>12:27</td>\n",
       "    </tr>\n",
       "    <tr>\n",
       "      <td>4</td>\n",
       "      <td>0.168803</td>\n",
       "      <td>0.129527</td>\n",
       "      <td>0.953280</td>\n",
       "      <td>0.046720</td>\n",
       "      <td>12:28</td>\n",
       "    </tr>\n",
       "  </tbody>\n",
       "</table>"
      ],
      "text/plain": [
       "<IPython.core.display.HTML object>"
      ]
     },
     "metadata": {},
     "output_type": "display_data"
    },
    {
     "data": {
      "image/png": "[encoded data removed]",
      "text/plain": [
       "<Figure size 432x288 with 1 Axes>"
      ]
     },
     "metadata": {},
     "output_type": "display_data"
    }
   ],
   "source": [
    "lr = 5e-6\n",
    "learner.fit_one_cycle(5, lr ,moms=(0.8,0.7))"
   ]
  },
  {
   "cell_type": "code",
   "execution_count": 51,
   "metadata": {},
   "outputs": [],
   "source": [
    "learner.save('RoBERTa_fine_tuned_unfreez_to_-3')"
   ]
  },
  {
   "cell_type": "code",
   "execution_count": 52,
   "metadata": {},
   "outputs": [
    {
     "data": {
      "text/html": [],
      "text/plain": [
       "<IPython.core.display.HTML object>"
      ]
     },
     "metadata": {},
     "output_type": "display_data"
    },
    {
     "name": "stdout",
     "output_type": "stream",
     "text": [
      "LR Finder is complete, type {learner_name}.recorder.plot() to see the graph.\n"
     ]
    },
    {
     "data": {
      "image/png": "[encoded data removed]",
      "text/plain": [
       "<Figure size 432x288 with 1 Axes>"
      ]
     },
     "metadata": {
      "needs_background": "light"
     },
     "output_type": "display_data"
    }
   ],
   "source": [
    "learner.freeze_to(-5)\n",
    "learner.lr_find()\n",
    "learner.recorder.plot()"
   ]
  },
  {
   "cell_type": "markdown",
   "metadata": {},
   "source": [
    "### Discriminative Learning Rate\n",
    "Consider using discriminative learning rate as we have unfreezed more and more layers of the RoBERTa model.\n",
    "At this stage the head of our model should also have some reasonable weights that is not likely to mess up the weight updates of RoBERTa body.\n",
    "One of the neat thing about `FastAI` layer groups is that we could basically assign any desired learning rate to each individual learning groups that we have constructed."
   ]
  },
  {
   "cell_type": "code",
   "execution_count": 53,
   "metadata": {},
   "outputs": [
    {
     "data": {
      "text/html": [
       "<table border=\"1\" class=\"dataframe\">\n",
       "  <thead>\n",
       "    <tr style=\"text-align: left;\">\n",
       "      <th>epoch</th>\n",
       "      <th>train_loss</th>\n",
       "      <th>valid_loss</th>\n",
       "      <th>accuracy</th>\n",
       "      <th>error_rate</th>\n",
       "      <th>time</th>\n",
       "    </tr>\n",
       "  </thead>\n",
       "  <tbody>\n",
       "    <tr>\n",
       "      <td>0</td>\n",
       "      <td>0.148790</td>\n",
       "      <td>0.128691</td>\n",
       "      <td>0.953360</td>\n",
       "      <td>0.046640</td>\n",
       "      <td>14:13</td>\n",
       "    </tr>\n",
       "    <tr>\n",
       "      <td>1</td>\n",
       "      <td>0.097810</td>\n",
       "      <td>0.126850</td>\n",
       "      <td>0.954520</td>\n",
       "      <td>0.045480</td>\n",
       "      <td>14:16</td>\n",
       "    </tr>\n",
       "    <tr>\n",
       "      <td>2</td>\n",
       "      <td>0.139967</td>\n",
       "      <td>0.124313</td>\n",
       "      <td>0.955240</td>\n",
       "      <td>0.044760</td>\n",
       "      <td>14:16</td>\n",
       "    </tr>\n",
       "    <tr>\n",
       "      <td>3</td>\n",
       "      <td>0.155316</td>\n",
       "      <td>0.125219</td>\n",
       "      <td>0.955560</td>\n",
       "      <td>0.044440</td>\n",
       "      <td>14:17</td>\n",
       "    </tr>\n",
       "  </tbody>\n",
       "</table>"
      ],
      "text/plain": [
       "<IPython.core.display.HTML object>"
      ]
     },
     "metadata": {},
     "output_type": "display_data"
    },
    {
     "data": {
      "image/png": "[encoded data removed]",
      "text/plain": [
       "<Figure size 432x288 with 1 Axes>"
      ]
     },
     "metadata": {},
     "output_type": "display_data"
    }
   ],
   "source": [
    "lr = 1e-6\n",
    "learner.fit_one_cycle(4, slice(lr*0.9**num_groups, lr) ,moms=(0.8,0.7))"
   ]
  },
  {
   "cell_type": "code",
   "execution_count": 54,
   "metadata": {},
   "outputs": [],
   "source": [
    "learner.save('RoBERTa_fine_tuned_unfreez_to_-5')"
   ]
  },
  {
   "cell_type": "code",
   "execution_count": 64,
   "metadata": {},
   "outputs": [],
   "source": [
    "learner.load('RoBERTa_fine_tuned_unfreez_to_-5');"
   ]
  },
  {
   "cell_type": "code",
   "execution_count": 65,
   "metadata": {},
   "outputs": [],
   "source": [
    "learner.unfreeze()\n",
    "# learner.lr_find()\n",
    "# learner.recorder.plot()"
   ]
  },
  {
   "cell_type": "code",
   "execution_count": 66,
   "metadata": {},
   "outputs": [
    {
     "data": {
      "text/html": [
       "<table border=\"1\" class=\"dataframe\">\n",
       "  <thead>\n",
       "    <tr style=\"text-align: left;\">\n",
       "      <th>epoch</th>\n",
       "      <th>train_loss</th>\n",
       "      <th>valid_loss</th>\n",
       "      <th>accuracy</th>\n",
       "      <th>error_rate</th>\n",
       "      <th>time</th>\n",
       "    </tr>\n",
       "  </thead>\n",
       "  <tbody>\n",
       "    <tr>\n",
       "      <td>0</td>\n",
       "      <td>0.156420</td>\n",
       "      <td>0.124315</td>\n",
       "      <td>0.955680</td>\n",
       "      <td>0.044320</td>\n",
       "      <td>23:52</td>\n",
       "    </tr>\n",
       "    <tr>\n",
       "      <td>1</td>\n",
       "      <td>0.114270</td>\n",
       "      <td>0.124870</td>\n",
       "      <td>0.956080</td>\n",
       "      <td>0.043920</td>\n",
       "      <td>23:52</td>\n",
       "    </tr>\n",
       "    <tr>\n",
       "      <td>2</td>\n",
       "      <td>0.072459</td>\n",
       "      <td>0.126324</td>\n",
       "      <td>0.956160</td>\n",
       "      <td>0.043840</td>\n",
       "      <td>23:56</td>\n",
       "    </tr>\n",
       "    <tr>\n",
       "      <td>3</td>\n",
       "      <td>0.100721</td>\n",
       "      <td>0.124604</td>\n",
       "      <td>0.957360</td>\n",
       "      <td>0.042640</td>\n",
       "      <td>23:56</td>\n",
       "    </tr>\n",
       "    <tr>\n",
       "      <td>4</td>\n",
       "      <td>0.116883</td>\n",
       "      <td>0.124834</td>\n",
       "      <td>0.957040</td>\n",
       "      <td>0.042960</td>\n",
       "      <td>23:56</td>\n",
       "    </tr>\n",
       "    <tr>\n",
       "      <td>5</td>\n",
       "      <td>0.075260</td>\n",
       "      <td>0.124227</td>\n",
       "      <td>0.957800</td>\n",
       "      <td>0.042200</td>\n",
       "      <td>23:56</td>\n",
       "    </tr>\n",
       "    <tr>\n",
       "      <td>6</td>\n",
       "      <td>0.083214</td>\n",
       "      <td>0.125587</td>\n",
       "      <td>0.957440</td>\n",
       "      <td>0.042560</td>\n",
       "      <td>23:58</td>\n",
       "    </tr>\n",
       "    <tr>\n",
       "      <td>7</td>\n",
       "      <td>0.088028</td>\n",
       "      <td>0.124764</td>\n",
       "      <td>0.957760</td>\n",
       "      <td>0.042240</td>\n",
       "      <td>23:56</td>\n",
       "    </tr>\n",
       "  </tbody>\n",
       "</table>"
      ],
      "text/plain": [
       "<IPython.core.display.HTML object>"
      ]
     },
     "metadata": {},
     "output_type": "display_data"
    },
    {
     "data": {
      "image/png": "[encoded data removed]",
      "text/plain": [
       "<Figure size 432x288 with 1 Axes>"
      ]
     },
     "metadata": {},
     "output_type": "display_data"
    }
   ],
   "source": [
    "lr = 5e-7\n",
    "learner.fit_one_cycle(8, slice(lr*0.9**num_groups, lr) ,moms=(0.8,0.7))"
   ]
  },
  {
   "cell_type": "code",
   "execution_count": 67,
   "metadata": {},
   "outputs": [],
   "source": [
    "learner.save('RoBERTa_fine_tuned_final')"
   ]
  }
 ],
 "metadata": {
  "kernelspec": {
   "display_name": "Python 3",
   "language": "python",
   "name": "python3"
  },
  "language_info": {
   "codemirror_mode": {
    "name": "ipython",
    "version": 3
   },
   "file_extension": ".py",
   "mimetype": "text/x-python",
   "name": "python",
   "nbconvert_exporter": "python",
   "pygments_lexer": "ipython3",
   "version": "3.6.8"
  }
 },
 "nbformat": 4,
 "nbformat_minor": 2
}
